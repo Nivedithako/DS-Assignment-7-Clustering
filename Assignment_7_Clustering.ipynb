{
  "nbformat": 4,
  "nbformat_minor": 0,
  "metadata": {
    "colab": {
      "provenance": []
    },
    "kernelspec": {
      "name": "python3",
      "display_name": "Python 3"
    },
    "language_info": {
      "name": "python"
    }
  },
  "cells": [
    {
      "cell_type": "markdown",
      "source": [
        "##  **Clustering Assignment**"
      ],
      "metadata": {
        "id": "wMKyWBcek7mS"
      }
    },
    {
      "cell_type": "markdown",
      "source": [
        "* Clustering is an 'unsupervised machine learning method' of identifying and grouping similar data points in larger datasets without concern for the specific outcome.\n",
        "* Clustering (sometimes called cluster analysis) is usually used to classify data into structures that are more easily understood and manipulated\n",
        "* Clustering is useful because it can help to find problems in the data, such as outliers.\n",
        "* It can also be used to improve the accuracy of machine learning models by providing more information about the structure of the data.\n",
        "\n",
        "\n",
        "\n"
      ],
      "metadata": {
        "id": "wb9kBpheqYhO"
      }
    },
    {
      "cell_type": "code",
      "source": [
        "#Importing necessary libraries\n",
        "\n",
        "import numpy as np\n",
        "import pandas as pd\n",
        "import seaborn as sns\n",
        "\n",
        "from sklearn.cluster import AgglomerativeClustering     #for Hierarchical clustering\n",
        "from sklearn.cluster import KMeans                      #for K-Means Clustering\n",
        "from sklearn.cluster import DBSCAN                      #for Density Based Spatial Clustering of Applications with Noise\n",
        "\n",
        "from sklearn.preprocessing import StandardScaler,MinMaxScaler,RobustScaler      #for Feature scaling"
      ],
      "metadata": {
        "id": "uchEPUyVm660"
      },
      "execution_count": 4,
      "outputs": []
    },
    {
      "cell_type": "markdown",
      "source": [
        "Problem 1:<br>\n",
        "Perform Clustering (Hierarchical, Kmeans & DBSCAN) for the crime data and identify the number of clusters formed and draw inferences.<br>\n",
        "\n",
        "\n",
        "\n",
        "Data Description:\n",
        "\n",
        "\n",
        "> Murder -- Muder rates in different places of United States\n",
        "\n",
        "\n",
        "> Assualt- Assualt rate in different places of United States\n",
        "\n",
        "\n",
        "> UrbanPop - urban population in different places of United States\n",
        "\n",
        "\n",
        "> Rape - Rape rate in different places of United States"
      ],
      "metadata": {
        "id": "QHCmdub8liUH"
      }
    },
    {
      "cell_type": "code",
      "source": [
        "#Importing data\n",
        "\n",
        "crime_df=pd.read_csv('crime_data.csv')\n",
        "crime_df"
      ],
      "metadata": {
        "colab": {
          "base_uri": "https://localhost:8080/",
          "height": 1000
        },
        "id": "d0WkJUF-rxy2",
        "outputId": "40c16af8-d4f0-4c12-b053-070c746e9a8a"
      },
      "execution_count": 5,
      "outputs": [
        {
          "output_type": "execute_result",
          "data": {
            "text/plain": [
              "        Unnamed: 0  Murder  Assault  UrbanPop  Rape\n",
              "0          Alabama    13.2      236        58  21.2\n",
              "1           Alaska    10.0      263        48  44.5\n",
              "2          Arizona     8.1      294        80  31.0\n",
              "3         Arkansas     8.8      190        50  19.5\n",
              "4       California     9.0      276        91  40.6\n",
              "5         Colorado     7.9      204        78  38.7\n",
              "6      Connecticut     3.3      110        77  11.1\n",
              "7         Delaware     5.9      238        72  15.8\n",
              "8          Florida    15.4      335        80  31.9\n",
              "9          Georgia    17.4      211        60  25.8\n",
              "10          Hawaii     5.3       46        83  20.2\n",
              "11           Idaho     2.6      120        54  14.2\n",
              "12        Illinois    10.4      249        83  24.0\n",
              "13         Indiana     7.2      113        65  21.0\n",
              "14            Iowa     2.2       56        57  11.3\n",
              "15          Kansas     6.0      115        66  18.0\n",
              "16        Kentucky     9.7      109        52  16.3\n",
              "17       Louisiana    15.4      249        66  22.2\n",
              "18           Maine     2.1       83        51   7.8\n",
              "19        Maryland    11.3      300        67  27.8\n",
              "20   Massachusetts     4.4      149        85  16.3\n",
              "21        Michigan    12.1      255        74  35.1\n",
              "22       Minnesota     2.7       72        66  14.9\n",
              "23     Mississippi    16.1      259        44  17.1\n",
              "24        Missouri     9.0      178        70  28.2\n",
              "25         Montana     6.0      109        53  16.4\n",
              "26        Nebraska     4.3      102        62  16.5\n",
              "27          Nevada    12.2      252        81  46.0\n",
              "28   New Hampshire     2.1       57        56   9.5\n",
              "29      New Jersey     7.4      159        89  18.8\n",
              "30      New Mexico    11.4      285        70  32.1\n",
              "31        New York    11.1      254        86  26.1\n",
              "32  North Carolina    13.0      337        45  16.1\n",
              "33    North Dakota     0.8       45        44   7.3\n",
              "34            Ohio     7.3      120        75  21.4\n",
              "35        Oklahoma     6.6      151        68  20.0\n",
              "36          Oregon     4.9      159        67  29.3\n",
              "37    Pennsylvania     6.3      106        72  14.9\n",
              "38    Rhode Island     3.4      174        87   8.3\n",
              "39  South Carolina    14.4      279        48  22.5\n",
              "40    South Dakota     3.8       86        45  12.8\n",
              "41       Tennessee    13.2      188        59  26.9\n",
              "42           Texas    12.7      201        80  25.5\n",
              "43            Utah     3.2      120        80  22.9\n",
              "44         Vermont     2.2       48        32  11.2\n",
              "45        Virginia     8.5      156        63  20.7\n",
              "46      Washington     4.0      145        73  26.2\n",
              "47   West Virginia     5.7       81        39   9.3\n",
              "48       Wisconsin     2.6       53        66  10.8\n",
              "49         Wyoming     6.8      161        60  15.6"
            ],
            "text/html": [
              "\n",
              "  <div id=\"df-2411a900-d516-455c-8049-5b09b1441164\" class=\"colab-df-container\">\n",
              "    <div>\n",
              "<style scoped>\n",
              "    .dataframe tbody tr th:only-of-type {\n",
              "        vertical-align: middle;\n",
              "    }\n",
              "\n",
              "    .dataframe tbody tr th {\n",
              "        vertical-align: top;\n",
              "    }\n",
              "\n",
              "    .dataframe thead th {\n",
              "        text-align: right;\n",
              "    }\n",
              "</style>\n",
              "<table border=\"1\" class=\"dataframe\">\n",
              "  <thead>\n",
              "    <tr style=\"text-align: right;\">\n",
              "      <th></th>\n",
              "      <th>Unnamed: 0</th>\n",
              "      <th>Murder</th>\n",
              "      <th>Assault</th>\n",
              "      <th>UrbanPop</th>\n",
              "      <th>Rape</th>\n",
              "    </tr>\n",
              "  </thead>\n",
              "  <tbody>\n",
              "    <tr>\n",
              "      <th>0</th>\n",
              "      <td>Alabama</td>\n",
              "      <td>13.2</td>\n",
              "      <td>236</td>\n",
              "      <td>58</td>\n",
              "      <td>21.2</td>\n",
              "    </tr>\n",
              "    <tr>\n",
              "      <th>1</th>\n",
              "      <td>Alaska</td>\n",
              "      <td>10.0</td>\n",
              "      <td>263</td>\n",
              "      <td>48</td>\n",
              "      <td>44.5</td>\n",
              "    </tr>\n",
              "    <tr>\n",
              "      <th>2</th>\n",
              "      <td>Arizona</td>\n",
              "      <td>8.1</td>\n",
              "      <td>294</td>\n",
              "      <td>80</td>\n",
              "      <td>31.0</td>\n",
              "    </tr>\n",
              "    <tr>\n",
              "      <th>3</th>\n",
              "      <td>Arkansas</td>\n",
              "      <td>8.8</td>\n",
              "      <td>190</td>\n",
              "      <td>50</td>\n",
              "      <td>19.5</td>\n",
              "    </tr>\n",
              "    <tr>\n",
              "      <th>4</th>\n",
              "      <td>California</td>\n",
              "      <td>9.0</td>\n",
              "      <td>276</td>\n",
              "      <td>91</td>\n",
              "      <td>40.6</td>\n",
              "    </tr>\n",
              "    <tr>\n",
              "      <th>5</th>\n",
              "      <td>Colorado</td>\n",
              "      <td>7.9</td>\n",
              "      <td>204</td>\n",
              "      <td>78</td>\n",
              "      <td>38.7</td>\n",
              "    </tr>\n",
              "    <tr>\n",
              "      <th>6</th>\n",
              "      <td>Connecticut</td>\n",
              "      <td>3.3</td>\n",
              "      <td>110</td>\n",
              "      <td>77</td>\n",
              "      <td>11.1</td>\n",
              "    </tr>\n",
              "    <tr>\n",
              "      <th>7</th>\n",
              "      <td>Delaware</td>\n",
              "      <td>5.9</td>\n",
              "      <td>238</td>\n",
              "      <td>72</td>\n",
              "      <td>15.8</td>\n",
              "    </tr>\n",
              "    <tr>\n",
              "      <th>8</th>\n",
              "      <td>Florida</td>\n",
              "      <td>15.4</td>\n",
              "      <td>335</td>\n",
              "      <td>80</td>\n",
              "      <td>31.9</td>\n",
              "    </tr>\n",
              "    <tr>\n",
              "      <th>9</th>\n",
              "      <td>Georgia</td>\n",
              "      <td>17.4</td>\n",
              "      <td>211</td>\n",
              "      <td>60</td>\n",
              "      <td>25.8</td>\n",
              "    </tr>\n",
              "    <tr>\n",
              "      <th>10</th>\n",
              "      <td>Hawaii</td>\n",
              "      <td>5.3</td>\n",
              "      <td>46</td>\n",
              "      <td>83</td>\n",
              "      <td>20.2</td>\n",
              "    </tr>\n",
              "    <tr>\n",
              "      <th>11</th>\n",
              "      <td>Idaho</td>\n",
              "      <td>2.6</td>\n",
              "      <td>120</td>\n",
              "      <td>54</td>\n",
              "      <td>14.2</td>\n",
              "    </tr>\n",
              "    <tr>\n",
              "      <th>12</th>\n",
              "      <td>Illinois</td>\n",
              "      <td>10.4</td>\n",
              "      <td>249</td>\n",
              "      <td>83</td>\n",
              "      <td>24.0</td>\n",
              "    </tr>\n",
              "    <tr>\n",
              "      <th>13</th>\n",
              "      <td>Indiana</td>\n",
              "      <td>7.2</td>\n",
              "      <td>113</td>\n",
              "      <td>65</td>\n",
              "      <td>21.0</td>\n",
              "    </tr>\n",
              "    <tr>\n",
              "      <th>14</th>\n",
              "      <td>Iowa</td>\n",
              "      <td>2.2</td>\n",
              "      <td>56</td>\n",
              "      <td>57</td>\n",
              "      <td>11.3</td>\n",
              "    </tr>\n",
              "    <tr>\n",
              "      <th>15</th>\n",
              "      <td>Kansas</td>\n",
              "      <td>6.0</td>\n",
              "      <td>115</td>\n",
              "      <td>66</td>\n",
              "      <td>18.0</td>\n",
              "    </tr>\n",
              "    <tr>\n",
              "      <th>16</th>\n",
              "      <td>Kentucky</td>\n",
              "      <td>9.7</td>\n",
              "      <td>109</td>\n",
              "      <td>52</td>\n",
              "      <td>16.3</td>\n",
              "    </tr>\n",
              "    <tr>\n",
              "      <th>17</th>\n",
              "      <td>Louisiana</td>\n",
              "      <td>15.4</td>\n",
              "      <td>249</td>\n",
              "      <td>66</td>\n",
              "      <td>22.2</td>\n",
              "    </tr>\n",
              "    <tr>\n",
              "      <th>18</th>\n",
              "      <td>Maine</td>\n",
              "      <td>2.1</td>\n",
              "      <td>83</td>\n",
              "      <td>51</td>\n",
              "      <td>7.8</td>\n",
              "    </tr>\n",
              "    <tr>\n",
              "      <th>19</th>\n",
              "      <td>Maryland</td>\n",
              "      <td>11.3</td>\n",
              "      <td>300</td>\n",
              "      <td>67</td>\n",
              "      <td>27.8</td>\n",
              "    </tr>\n",
              "    <tr>\n",
              "      <th>20</th>\n",
              "      <td>Massachusetts</td>\n",
              "      <td>4.4</td>\n",
              "      <td>149</td>\n",
              "      <td>85</td>\n",
              "      <td>16.3</td>\n",
              "    </tr>\n",
              "    <tr>\n",
              "      <th>21</th>\n",
              "      <td>Michigan</td>\n",
              "      <td>12.1</td>\n",
              "      <td>255</td>\n",
              "      <td>74</td>\n",
              "      <td>35.1</td>\n",
              "    </tr>\n",
              "    <tr>\n",
              "      <th>22</th>\n",
              "      <td>Minnesota</td>\n",
              "      <td>2.7</td>\n",
              "      <td>72</td>\n",
              "      <td>66</td>\n",
              "      <td>14.9</td>\n",
              "    </tr>\n",
              "    <tr>\n",
              "      <th>23</th>\n",
              "      <td>Mississippi</td>\n",
              "      <td>16.1</td>\n",
              "      <td>259</td>\n",
              "      <td>44</td>\n",
              "      <td>17.1</td>\n",
              "    </tr>\n",
              "    <tr>\n",
              "      <th>24</th>\n",
              "      <td>Missouri</td>\n",
              "      <td>9.0</td>\n",
              "      <td>178</td>\n",
              "      <td>70</td>\n",
              "      <td>28.2</td>\n",
              "    </tr>\n",
              "    <tr>\n",
              "      <th>25</th>\n",
              "      <td>Montana</td>\n",
              "      <td>6.0</td>\n",
              "      <td>109</td>\n",
              "      <td>53</td>\n",
              "      <td>16.4</td>\n",
              "    </tr>\n",
              "    <tr>\n",
              "      <th>26</th>\n",
              "      <td>Nebraska</td>\n",
              "      <td>4.3</td>\n",
              "      <td>102</td>\n",
              "      <td>62</td>\n",
              "      <td>16.5</td>\n",
              "    </tr>\n",
              "    <tr>\n",
              "      <th>27</th>\n",
              "      <td>Nevada</td>\n",
              "      <td>12.2</td>\n",
              "      <td>252</td>\n",
              "      <td>81</td>\n",
              "      <td>46.0</td>\n",
              "    </tr>\n",
              "    <tr>\n",
              "      <th>28</th>\n",
              "      <td>New Hampshire</td>\n",
              "      <td>2.1</td>\n",
              "      <td>57</td>\n",
              "      <td>56</td>\n",
              "      <td>9.5</td>\n",
              "    </tr>\n",
              "    <tr>\n",
              "      <th>29</th>\n",
              "      <td>New Jersey</td>\n",
              "      <td>7.4</td>\n",
              "      <td>159</td>\n",
              "      <td>89</td>\n",
              "      <td>18.8</td>\n",
              "    </tr>\n",
              "    <tr>\n",
              "      <th>30</th>\n",
              "      <td>New Mexico</td>\n",
              "      <td>11.4</td>\n",
              "      <td>285</td>\n",
              "      <td>70</td>\n",
              "      <td>32.1</td>\n",
              "    </tr>\n",
              "    <tr>\n",
              "      <th>31</th>\n",
              "      <td>New York</td>\n",
              "      <td>11.1</td>\n",
              "      <td>254</td>\n",
              "      <td>86</td>\n",
              "      <td>26.1</td>\n",
              "    </tr>\n",
              "    <tr>\n",
              "      <th>32</th>\n",
              "      <td>North Carolina</td>\n",
              "      <td>13.0</td>\n",
              "      <td>337</td>\n",
              "      <td>45</td>\n",
              "      <td>16.1</td>\n",
              "    </tr>\n",
              "    <tr>\n",
              "      <th>33</th>\n",
              "      <td>North Dakota</td>\n",
              "      <td>0.8</td>\n",
              "      <td>45</td>\n",
              "      <td>44</td>\n",
              "      <td>7.3</td>\n",
              "    </tr>\n",
              "    <tr>\n",
              "      <th>34</th>\n",
              "      <td>Ohio</td>\n",
              "      <td>7.3</td>\n",
              "      <td>120</td>\n",
              "      <td>75</td>\n",
              "      <td>21.4</td>\n",
              "    </tr>\n",
              "    <tr>\n",
              "      <th>35</th>\n",
              "      <td>Oklahoma</td>\n",
              "      <td>6.6</td>\n",
              "      <td>151</td>\n",
              "      <td>68</td>\n",
              "      <td>20.0</td>\n",
              "    </tr>\n",
              "    <tr>\n",
              "      <th>36</th>\n",
              "      <td>Oregon</td>\n",
              "      <td>4.9</td>\n",
              "      <td>159</td>\n",
              "      <td>67</td>\n",
              "      <td>29.3</td>\n",
              "    </tr>\n",
              "    <tr>\n",
              "      <th>37</th>\n",
              "      <td>Pennsylvania</td>\n",
              "      <td>6.3</td>\n",
              "      <td>106</td>\n",
              "      <td>72</td>\n",
              "      <td>14.9</td>\n",
              "    </tr>\n",
              "    <tr>\n",
              "      <th>38</th>\n",
              "      <td>Rhode Island</td>\n",
              "      <td>3.4</td>\n",
              "      <td>174</td>\n",
              "      <td>87</td>\n",
              "      <td>8.3</td>\n",
              "    </tr>\n",
              "    <tr>\n",
              "      <th>39</th>\n",
              "      <td>South Carolina</td>\n",
              "      <td>14.4</td>\n",
              "      <td>279</td>\n",
              "      <td>48</td>\n",
              "      <td>22.5</td>\n",
              "    </tr>\n",
              "    <tr>\n",
              "      <th>40</th>\n",
              "      <td>South Dakota</td>\n",
              "      <td>3.8</td>\n",
              "      <td>86</td>\n",
              "      <td>45</td>\n",
              "      <td>12.8</td>\n",
              "    </tr>\n",
              "    <tr>\n",
              "      <th>41</th>\n",
              "      <td>Tennessee</td>\n",
              "      <td>13.2</td>\n",
              "      <td>188</td>\n",
              "      <td>59</td>\n",
              "      <td>26.9</td>\n",
              "    </tr>\n",
              "    <tr>\n",
              "      <th>42</th>\n",
              "      <td>Texas</td>\n",
              "      <td>12.7</td>\n",
              "      <td>201</td>\n",
              "      <td>80</td>\n",
              "      <td>25.5</td>\n",
              "    </tr>\n",
              "    <tr>\n",
              "      <th>43</th>\n",
              "      <td>Utah</td>\n",
              "      <td>3.2</td>\n",
              "      <td>120</td>\n",
              "      <td>80</td>\n",
              "      <td>22.9</td>\n",
              "    </tr>\n",
              "    <tr>\n",
              "      <th>44</th>\n",
              "      <td>Vermont</td>\n",
              "      <td>2.2</td>\n",
              "      <td>48</td>\n",
              "      <td>32</td>\n",
              "      <td>11.2</td>\n",
              "    </tr>\n",
              "    <tr>\n",
              "      <th>45</th>\n",
              "      <td>Virginia</td>\n",
              "      <td>8.5</td>\n",
              "      <td>156</td>\n",
              "      <td>63</td>\n",
              "      <td>20.7</td>\n",
              "    </tr>\n",
              "    <tr>\n",
              "      <th>46</th>\n",
              "      <td>Washington</td>\n",
              "      <td>4.0</td>\n",
              "      <td>145</td>\n",
              "      <td>73</td>\n",
              "      <td>26.2</td>\n",
              "    </tr>\n",
              "    <tr>\n",
              "      <th>47</th>\n",
              "      <td>West Virginia</td>\n",
              "      <td>5.7</td>\n",
              "      <td>81</td>\n",
              "      <td>39</td>\n",
              "      <td>9.3</td>\n",
              "    </tr>\n",
              "    <tr>\n",
              "      <th>48</th>\n",
              "      <td>Wisconsin</td>\n",
              "      <td>2.6</td>\n",
              "      <td>53</td>\n",
              "      <td>66</td>\n",
              "      <td>10.8</td>\n",
              "    </tr>\n",
              "    <tr>\n",
              "      <th>49</th>\n",
              "      <td>Wyoming</td>\n",
              "      <td>6.8</td>\n",
              "      <td>161</td>\n",
              "      <td>60</td>\n",
              "      <td>15.6</td>\n",
              "    </tr>\n",
              "  </tbody>\n",
              "</table>\n",
              "</div>\n",
              "    <div class=\"colab-df-buttons\">\n",
              "\n",
              "  <div class=\"colab-df-container\">\n",
              "    <button class=\"colab-df-convert\" onclick=\"convertToInteractive('df-2411a900-d516-455c-8049-5b09b1441164')\"\n",
              "            title=\"Convert this dataframe to an interactive table.\"\n",
              "            style=\"display:none;\">\n",
              "\n",
              "  <svg xmlns=\"http://www.w3.org/2000/svg\" height=\"24px\" viewBox=\"0 -960 960 960\">\n",
              "    <path d=\"M120-120v-720h720v720H120Zm60-500h600v-160H180v160Zm220 220h160v-160H400v160Zm0 220h160v-160H400v160ZM180-400h160v-160H180v160Zm440 0h160v-160H620v160ZM180-180h160v-160H180v160Zm440 0h160v-160H620v160Z\"/>\n",
              "  </svg>\n",
              "    </button>\n",
              "\n",
              "  <style>\n",
              "    .colab-df-container {\n",
              "      display:flex;\n",
              "      gap: 12px;\n",
              "    }\n",
              "\n",
              "    .colab-df-convert {\n",
              "      background-color: #E8F0FE;\n",
              "      border: none;\n",
              "      border-radius: 50%;\n",
              "      cursor: pointer;\n",
              "      display: none;\n",
              "      fill: #1967D2;\n",
              "      height: 32px;\n",
              "      padding: 0 0 0 0;\n",
              "      width: 32px;\n",
              "    }\n",
              "\n",
              "    .colab-df-convert:hover {\n",
              "      background-color: #E2EBFA;\n",
              "      box-shadow: 0px 1px 2px rgba(60, 64, 67, 0.3), 0px 1px 3px 1px rgba(60, 64, 67, 0.15);\n",
              "      fill: #174EA6;\n",
              "    }\n",
              "\n",
              "    .colab-df-buttons div {\n",
              "      margin-bottom: 4px;\n",
              "    }\n",
              "\n",
              "    [theme=dark] .colab-df-convert {\n",
              "      background-color: #3B4455;\n",
              "      fill: #D2E3FC;\n",
              "    }\n",
              "\n",
              "    [theme=dark] .colab-df-convert:hover {\n",
              "      background-color: #434B5C;\n",
              "      box-shadow: 0px 1px 3px 1px rgba(0, 0, 0, 0.15);\n",
              "      filter: drop-shadow(0px 1px 2px rgba(0, 0, 0, 0.3));\n",
              "      fill: #FFFFFF;\n",
              "    }\n",
              "  </style>\n",
              "\n",
              "    <script>\n",
              "      const buttonEl =\n",
              "        document.querySelector('#df-2411a900-d516-455c-8049-5b09b1441164 button.colab-df-convert');\n",
              "      buttonEl.style.display =\n",
              "        google.colab.kernel.accessAllowed ? 'block' : 'none';\n",
              "\n",
              "      async function convertToInteractive(key) {\n",
              "        const element = document.querySelector('#df-2411a900-d516-455c-8049-5b09b1441164');\n",
              "        const dataTable =\n",
              "          await google.colab.kernel.invokeFunction('convertToInteractive',\n",
              "                                                    [key], {});\n",
              "        if (!dataTable) return;\n",
              "\n",
              "        const docLinkHtml = 'Like what you see? Visit the ' +\n",
              "          '<a target=\"_blank\" href=https://colab.research.google.com/notebooks/data_table.ipynb>data table notebook</a>'\n",
              "          + ' to learn more about interactive tables.';\n",
              "        element.innerHTML = '';\n",
              "        dataTable['output_type'] = 'display_data';\n",
              "        await google.colab.output.renderOutput(dataTable, element);\n",
              "        const docLink = document.createElement('div');\n",
              "        docLink.innerHTML = docLinkHtml;\n",
              "        element.appendChild(docLink);\n",
              "      }\n",
              "    </script>\n",
              "  </div>\n",
              "\n",
              "\n",
              "<div id=\"df-487e9f42-d99b-49d0-a777-55d2ee00e776\">\n",
              "  <button class=\"colab-df-quickchart\" onclick=\"quickchart('df-487e9f42-d99b-49d0-a777-55d2ee00e776')\"\n",
              "            title=\"Suggest charts\"\n",
              "            style=\"display:none;\">\n",
              "\n",
              "<svg xmlns=\"http://www.w3.org/2000/svg\" height=\"24px\"viewBox=\"0 0 24 24\"\n",
              "     width=\"24px\">\n",
              "    <g>\n",
              "        <path d=\"M19 3H5c-1.1 0-2 .9-2 2v14c0 1.1.9 2 2 2h14c1.1 0 2-.9 2-2V5c0-1.1-.9-2-2-2zM9 17H7v-7h2v7zm4 0h-2V7h2v10zm4 0h-2v-4h2v4z\"/>\n",
              "    </g>\n",
              "</svg>\n",
              "  </button>\n",
              "\n",
              "<style>\n",
              "  .colab-df-quickchart {\n",
              "      --bg-color: #E8F0FE;\n",
              "      --fill-color: #1967D2;\n",
              "      --hover-bg-color: #E2EBFA;\n",
              "      --hover-fill-color: #174EA6;\n",
              "      --disabled-fill-color: #AAA;\n",
              "      --disabled-bg-color: #DDD;\n",
              "  }\n",
              "\n",
              "  [theme=dark] .colab-df-quickchart {\n",
              "      --bg-color: #3B4455;\n",
              "      --fill-color: #D2E3FC;\n",
              "      --hover-bg-color: #434B5C;\n",
              "      --hover-fill-color: #FFFFFF;\n",
              "      --disabled-bg-color: #3B4455;\n",
              "      --disabled-fill-color: #666;\n",
              "  }\n",
              "\n",
              "  .colab-df-quickchart {\n",
              "    background-color: var(--bg-color);\n",
              "    border: none;\n",
              "    border-radius: 50%;\n",
              "    cursor: pointer;\n",
              "    display: none;\n",
              "    fill: var(--fill-color);\n",
              "    height: 32px;\n",
              "    padding: 0;\n",
              "    width: 32px;\n",
              "  }\n",
              "\n",
              "  .colab-df-quickchart:hover {\n",
              "    background-color: var(--hover-bg-color);\n",
              "    box-shadow: 0 1px 2px rgba(60, 64, 67, 0.3), 0 1px 3px 1px rgba(60, 64, 67, 0.15);\n",
              "    fill: var(--button-hover-fill-color);\n",
              "  }\n",
              "\n",
              "  .colab-df-quickchart-complete:disabled,\n",
              "  .colab-df-quickchart-complete:disabled:hover {\n",
              "    background-color: var(--disabled-bg-color);\n",
              "    fill: var(--disabled-fill-color);\n",
              "    box-shadow: none;\n",
              "  }\n",
              "\n",
              "  .colab-df-spinner {\n",
              "    border: 2px solid var(--fill-color);\n",
              "    border-color: transparent;\n",
              "    border-bottom-color: var(--fill-color);\n",
              "    animation:\n",
              "      spin 1s steps(1) infinite;\n",
              "  }\n",
              "\n",
              "  @keyframes spin {\n",
              "    0% {\n",
              "      border-color: transparent;\n",
              "      border-bottom-color: var(--fill-color);\n",
              "      border-left-color: var(--fill-color);\n",
              "    }\n",
              "    20% {\n",
              "      border-color: transparent;\n",
              "      border-left-color: var(--fill-color);\n",
              "      border-top-color: var(--fill-color);\n",
              "    }\n",
              "    30% {\n",
              "      border-color: transparent;\n",
              "      border-left-color: var(--fill-color);\n",
              "      border-top-color: var(--fill-color);\n",
              "      border-right-color: var(--fill-color);\n",
              "    }\n",
              "    40% {\n",
              "      border-color: transparent;\n",
              "      border-right-color: var(--fill-color);\n",
              "      border-top-color: var(--fill-color);\n",
              "    }\n",
              "    60% {\n",
              "      border-color: transparent;\n",
              "      border-right-color: var(--fill-color);\n",
              "    }\n",
              "    80% {\n",
              "      border-color: transparent;\n",
              "      border-right-color: var(--fill-color);\n",
              "      border-bottom-color: var(--fill-color);\n",
              "    }\n",
              "    90% {\n",
              "      border-color: transparent;\n",
              "      border-bottom-color: var(--fill-color);\n",
              "    }\n",
              "  }\n",
              "</style>\n",
              "\n",
              "  <script>\n",
              "    async function quickchart(key) {\n",
              "      const quickchartButtonEl =\n",
              "        document.querySelector('#' + key + ' button');\n",
              "      quickchartButtonEl.disabled = true;  // To prevent multiple clicks.\n",
              "      quickchartButtonEl.classList.add('colab-df-spinner');\n",
              "      try {\n",
              "        const charts = await google.colab.kernel.invokeFunction(\n",
              "            'suggestCharts', [key], {});\n",
              "      } catch (error) {\n",
              "        console.error('Error during call to suggestCharts:', error);\n",
              "      }\n",
              "      quickchartButtonEl.classList.remove('colab-df-spinner');\n",
              "      quickchartButtonEl.classList.add('colab-df-quickchart-complete');\n",
              "    }\n",
              "    (() => {\n",
              "      let quickchartButtonEl =\n",
              "        document.querySelector('#df-487e9f42-d99b-49d0-a777-55d2ee00e776 button');\n",
              "      quickchartButtonEl.style.display =\n",
              "        google.colab.kernel.accessAllowed ? 'block' : 'none';\n",
              "    })();\n",
              "  </script>\n",
              "</div>\n",
              "\n",
              "  <div id=\"id_1f361e02-8cea-4ff4-a0c4-ba12c657e752\">\n",
              "    <style>\n",
              "      .colab-df-generate {\n",
              "        background-color: #E8F0FE;\n",
              "        border: none;\n",
              "        border-radius: 50%;\n",
              "        cursor: pointer;\n",
              "        display: none;\n",
              "        fill: #1967D2;\n",
              "        height: 32px;\n",
              "        padding: 0 0 0 0;\n",
              "        width: 32px;\n",
              "      }\n",
              "\n",
              "      .colab-df-generate:hover {\n",
              "        background-color: #E2EBFA;\n",
              "        box-shadow: 0px 1px 2px rgba(60, 64, 67, 0.3), 0px 1px 3px 1px rgba(60, 64, 67, 0.15);\n",
              "        fill: #174EA6;\n",
              "      }\n",
              "\n",
              "      [theme=dark] .colab-df-generate {\n",
              "        background-color: #3B4455;\n",
              "        fill: #D2E3FC;\n",
              "      }\n",
              "\n",
              "      [theme=dark] .colab-df-generate:hover {\n",
              "        background-color: #434B5C;\n",
              "        box-shadow: 0px 1px 3px 1px rgba(0, 0, 0, 0.15);\n",
              "        filter: drop-shadow(0px 1px 2px rgba(0, 0, 0, 0.3));\n",
              "        fill: #FFFFFF;\n",
              "      }\n",
              "    </style>\n",
              "    <button class=\"colab-df-generate\" onclick=\"generateWithVariable('crime_df')\"\n",
              "            title=\"Generate code using this dataframe.\"\n",
              "            style=\"display:none;\">\n",
              "\n",
              "  <svg xmlns=\"http://www.w3.org/2000/svg\" height=\"24px\"viewBox=\"0 0 24 24\"\n",
              "       width=\"24px\">\n",
              "    <path d=\"M7,19H8.4L18.45,9,17,7.55,7,17.6ZM5,21V16.75L18.45,3.32a2,2,0,0,1,2.83,0l1.4,1.43a1.91,1.91,0,0,1,.58,1.4,1.91,1.91,0,0,1-.58,1.4L9.25,21ZM18.45,9,17,7.55Zm-12,3A5.31,5.31,0,0,0,4.9,8.1,5.31,5.31,0,0,0,1,6.5,5.31,5.31,0,0,0,4.9,4.9,5.31,5.31,0,0,0,6.5,1,5.31,5.31,0,0,0,8.1,4.9,5.31,5.31,0,0,0,12,6.5,5.46,5.46,0,0,0,6.5,12Z\"/>\n",
              "  </svg>\n",
              "    </button>\n",
              "    <script>\n",
              "      (() => {\n",
              "      const buttonEl =\n",
              "        document.querySelector('#id_1f361e02-8cea-4ff4-a0c4-ba12c657e752 button.colab-df-generate');\n",
              "      buttonEl.style.display =\n",
              "        google.colab.kernel.accessAllowed ? 'block' : 'none';\n",
              "\n",
              "      buttonEl.onclick = () => {\n",
              "        google.colab.notebook.generateWithVariable('crime_df');\n",
              "      }\n",
              "      })();\n",
              "    </script>\n",
              "  </div>\n",
              "\n",
              "    </div>\n",
              "  </div>\n"
            ],
            "application/vnd.google.colaboratory.intrinsic+json": {
              "type": "dataframe",
              "variable_name": "crime_df",
              "summary": "{\n  \"name\": \"crime_df\",\n  \"rows\": 50,\n  \"fields\": [\n    {\n      \"column\": \"Unnamed: 0\",\n      \"properties\": {\n        \"dtype\": \"string\",\n        \"num_unique_values\": 50,\n        \"samples\": [\n          \"Indiana\",\n          \"South Carolina\",\n          \"New Mexico\"\n        ],\n        \"semantic_type\": \"\",\n        \"description\": \"\"\n      }\n    },\n    {\n      \"column\": \"Murder\",\n      \"properties\": {\n        \"dtype\": \"number\",\n        \"std\": 4.355509764209288,\n        \"min\": 0.8,\n        \"max\": 17.4,\n        \"num_unique_values\": 43,\n        \"samples\": [\n          12.7,\n          12.2,\n          7.4\n        ],\n        \"semantic_type\": \"\",\n        \"description\": \"\"\n      }\n    },\n    {\n      \"column\": \"Assault\",\n      \"properties\": {\n        \"dtype\": \"number\",\n        \"std\": 83,\n        \"min\": 45,\n        \"max\": 337,\n        \"num_unique_values\": 45,\n        \"samples\": [\n          48,\n          252,\n          57\n        ],\n        \"semantic_type\": \"\",\n        \"description\": \"\"\n      }\n    },\n    {\n      \"column\": \"UrbanPop\",\n      \"properties\": {\n        \"dtype\": \"number\",\n        \"std\": 14,\n        \"min\": 32,\n        \"max\": 91,\n        \"num_unique_values\": 36,\n        \"samples\": [\n          39,\n          66,\n          86\n        ],\n        \"semantic_type\": \"\",\n        \"description\": \"\"\n      }\n    },\n    {\n      \"column\": \"Rape\",\n      \"properties\": {\n        \"dtype\": \"number\",\n        \"std\": 9.36638453105965,\n        \"min\": 7.3,\n        \"max\": 46.0,\n        \"num_unique_values\": 48,\n        \"samples\": [\n          9.5,\n          25.5,\n          46.0\n        ],\n        \"semantic_type\": \"\",\n        \"description\": \"\"\n      }\n    }\n  ]\n}"
            }
          },
          "metadata": {},
          "execution_count": 5
        }
      ]
    },
    {
      "cell_type": "code",
      "source": [
        "features=crime_df.iloc[:,1:]\n",
        "features.head(5)"
      ],
      "metadata": {
        "colab": {
          "base_uri": "https://localhost:8080/",
          "height": 206
        },
        "id": "B6T2eTQIsNNg",
        "outputId": "4e2a1664-6794-4494-b826-f419b39ced5c"
      },
      "execution_count": 6,
      "outputs": [
        {
          "output_type": "execute_result",
          "data": {
            "text/plain": [
              "   Murder  Assault  UrbanPop  Rape\n",
              "0    13.2      236        58  21.2\n",
              "1    10.0      263        48  44.5\n",
              "2     8.1      294        80  31.0\n",
              "3     8.8      190        50  19.5\n",
              "4     9.0      276        91  40.6"
            ],
            "text/html": [
              "\n",
              "  <div id=\"df-05319f9a-af14-4528-b9fc-cf79fed0c673\" class=\"colab-df-container\">\n",
              "    <div>\n",
              "<style scoped>\n",
              "    .dataframe tbody tr th:only-of-type {\n",
              "        vertical-align: middle;\n",
              "    }\n",
              "\n",
              "    .dataframe tbody tr th {\n",
              "        vertical-align: top;\n",
              "    }\n",
              "\n",
              "    .dataframe thead th {\n",
              "        text-align: right;\n",
              "    }\n",
              "</style>\n",
              "<table border=\"1\" class=\"dataframe\">\n",
              "  <thead>\n",
              "    <tr style=\"text-align: right;\">\n",
              "      <th></th>\n",
              "      <th>Murder</th>\n",
              "      <th>Assault</th>\n",
              "      <th>UrbanPop</th>\n",
              "      <th>Rape</th>\n",
              "    </tr>\n",
              "  </thead>\n",
              "  <tbody>\n",
              "    <tr>\n",
              "      <th>0</th>\n",
              "      <td>13.2</td>\n",
              "      <td>236</td>\n",
              "      <td>58</td>\n",
              "      <td>21.2</td>\n",
              "    </tr>\n",
              "    <tr>\n",
              "      <th>1</th>\n",
              "      <td>10.0</td>\n",
              "      <td>263</td>\n",
              "      <td>48</td>\n",
              "      <td>44.5</td>\n",
              "    </tr>\n",
              "    <tr>\n",
              "      <th>2</th>\n",
              "      <td>8.1</td>\n",
              "      <td>294</td>\n",
              "      <td>80</td>\n",
              "      <td>31.0</td>\n",
              "    </tr>\n",
              "    <tr>\n",
              "      <th>3</th>\n",
              "      <td>8.8</td>\n",
              "      <td>190</td>\n",
              "      <td>50</td>\n",
              "      <td>19.5</td>\n",
              "    </tr>\n",
              "    <tr>\n",
              "      <th>4</th>\n",
              "      <td>9.0</td>\n",
              "      <td>276</td>\n",
              "      <td>91</td>\n",
              "      <td>40.6</td>\n",
              "    </tr>\n",
              "  </tbody>\n",
              "</table>\n",
              "</div>\n",
              "    <div class=\"colab-df-buttons\">\n",
              "\n",
              "  <div class=\"colab-df-container\">\n",
              "    <button class=\"colab-df-convert\" onclick=\"convertToInteractive('df-05319f9a-af14-4528-b9fc-cf79fed0c673')\"\n",
              "            title=\"Convert this dataframe to an interactive table.\"\n",
              "            style=\"display:none;\">\n",
              "\n",
              "  <svg xmlns=\"http://www.w3.org/2000/svg\" height=\"24px\" viewBox=\"0 -960 960 960\">\n",
              "    <path d=\"M120-120v-720h720v720H120Zm60-500h600v-160H180v160Zm220 220h160v-160H400v160Zm0 220h160v-160H400v160ZM180-400h160v-160H180v160Zm440 0h160v-160H620v160ZM180-180h160v-160H180v160Zm440 0h160v-160H620v160Z\"/>\n",
              "  </svg>\n",
              "    </button>\n",
              "\n",
              "  <style>\n",
              "    .colab-df-container {\n",
              "      display:flex;\n",
              "      gap: 12px;\n",
              "    }\n",
              "\n",
              "    .colab-df-convert {\n",
              "      background-color: #E8F0FE;\n",
              "      border: none;\n",
              "      border-radius: 50%;\n",
              "      cursor: pointer;\n",
              "      display: none;\n",
              "      fill: #1967D2;\n",
              "      height: 32px;\n",
              "      padding: 0 0 0 0;\n",
              "      width: 32px;\n",
              "    }\n",
              "\n",
              "    .colab-df-convert:hover {\n",
              "      background-color: #E2EBFA;\n",
              "      box-shadow: 0px 1px 2px rgba(60, 64, 67, 0.3), 0px 1px 3px 1px rgba(60, 64, 67, 0.15);\n",
              "      fill: #174EA6;\n",
              "    }\n",
              "\n",
              "    .colab-df-buttons div {\n",
              "      margin-bottom: 4px;\n",
              "    }\n",
              "\n",
              "    [theme=dark] .colab-df-convert {\n",
              "      background-color: #3B4455;\n",
              "      fill: #D2E3FC;\n",
              "    }\n",
              "\n",
              "    [theme=dark] .colab-df-convert:hover {\n",
              "      background-color: #434B5C;\n",
              "      box-shadow: 0px 1px 3px 1px rgba(0, 0, 0, 0.15);\n",
              "      filter: drop-shadow(0px 1px 2px rgba(0, 0, 0, 0.3));\n",
              "      fill: #FFFFFF;\n",
              "    }\n",
              "  </style>\n",
              "\n",
              "    <script>\n",
              "      const buttonEl =\n",
              "        document.querySelector('#df-05319f9a-af14-4528-b9fc-cf79fed0c673 button.colab-df-convert');\n",
              "      buttonEl.style.display =\n",
              "        google.colab.kernel.accessAllowed ? 'block' : 'none';\n",
              "\n",
              "      async function convertToInteractive(key) {\n",
              "        const element = document.querySelector('#df-05319f9a-af14-4528-b9fc-cf79fed0c673');\n",
              "        const dataTable =\n",
              "          await google.colab.kernel.invokeFunction('convertToInteractive',\n",
              "                                                    [key], {});\n",
              "        if (!dataTable) return;\n",
              "\n",
              "        const docLinkHtml = 'Like what you see? Visit the ' +\n",
              "          '<a target=\"_blank\" href=https://colab.research.google.com/notebooks/data_table.ipynb>data table notebook</a>'\n",
              "          + ' to learn more about interactive tables.';\n",
              "        element.innerHTML = '';\n",
              "        dataTable['output_type'] = 'display_data';\n",
              "        await google.colab.output.renderOutput(dataTable, element);\n",
              "        const docLink = document.createElement('div');\n",
              "        docLink.innerHTML = docLinkHtml;\n",
              "        element.appendChild(docLink);\n",
              "      }\n",
              "    </script>\n",
              "  </div>\n",
              "\n",
              "\n",
              "<div id=\"df-b7f3d8e5-abbf-4219-a607-83922bce6623\">\n",
              "  <button class=\"colab-df-quickchart\" onclick=\"quickchart('df-b7f3d8e5-abbf-4219-a607-83922bce6623')\"\n",
              "            title=\"Suggest charts\"\n",
              "            style=\"display:none;\">\n",
              "\n",
              "<svg xmlns=\"http://www.w3.org/2000/svg\" height=\"24px\"viewBox=\"0 0 24 24\"\n",
              "     width=\"24px\">\n",
              "    <g>\n",
              "        <path d=\"M19 3H5c-1.1 0-2 .9-2 2v14c0 1.1.9 2 2 2h14c1.1 0 2-.9 2-2V5c0-1.1-.9-2-2-2zM9 17H7v-7h2v7zm4 0h-2V7h2v10zm4 0h-2v-4h2v4z\"/>\n",
              "    </g>\n",
              "</svg>\n",
              "  </button>\n",
              "\n",
              "<style>\n",
              "  .colab-df-quickchart {\n",
              "      --bg-color: #E8F0FE;\n",
              "      --fill-color: #1967D2;\n",
              "      --hover-bg-color: #E2EBFA;\n",
              "      --hover-fill-color: #174EA6;\n",
              "      --disabled-fill-color: #AAA;\n",
              "      --disabled-bg-color: #DDD;\n",
              "  }\n",
              "\n",
              "  [theme=dark] .colab-df-quickchart {\n",
              "      --bg-color: #3B4455;\n",
              "      --fill-color: #D2E3FC;\n",
              "      --hover-bg-color: #434B5C;\n",
              "      --hover-fill-color: #FFFFFF;\n",
              "      --disabled-bg-color: #3B4455;\n",
              "      --disabled-fill-color: #666;\n",
              "  }\n",
              "\n",
              "  .colab-df-quickchart {\n",
              "    background-color: var(--bg-color);\n",
              "    border: none;\n",
              "    border-radius: 50%;\n",
              "    cursor: pointer;\n",
              "    display: none;\n",
              "    fill: var(--fill-color);\n",
              "    height: 32px;\n",
              "    padding: 0;\n",
              "    width: 32px;\n",
              "  }\n",
              "\n",
              "  .colab-df-quickchart:hover {\n",
              "    background-color: var(--hover-bg-color);\n",
              "    box-shadow: 0 1px 2px rgba(60, 64, 67, 0.3), 0 1px 3px 1px rgba(60, 64, 67, 0.15);\n",
              "    fill: var(--button-hover-fill-color);\n",
              "  }\n",
              "\n",
              "  .colab-df-quickchart-complete:disabled,\n",
              "  .colab-df-quickchart-complete:disabled:hover {\n",
              "    background-color: var(--disabled-bg-color);\n",
              "    fill: var(--disabled-fill-color);\n",
              "    box-shadow: none;\n",
              "  }\n",
              "\n",
              "  .colab-df-spinner {\n",
              "    border: 2px solid var(--fill-color);\n",
              "    border-color: transparent;\n",
              "    border-bottom-color: var(--fill-color);\n",
              "    animation:\n",
              "      spin 1s steps(1) infinite;\n",
              "  }\n",
              "\n",
              "  @keyframes spin {\n",
              "    0% {\n",
              "      border-color: transparent;\n",
              "      border-bottom-color: var(--fill-color);\n",
              "      border-left-color: var(--fill-color);\n",
              "    }\n",
              "    20% {\n",
              "      border-color: transparent;\n",
              "      border-left-color: var(--fill-color);\n",
              "      border-top-color: var(--fill-color);\n",
              "    }\n",
              "    30% {\n",
              "      border-color: transparent;\n",
              "      border-left-color: var(--fill-color);\n",
              "      border-top-color: var(--fill-color);\n",
              "      border-right-color: var(--fill-color);\n",
              "    }\n",
              "    40% {\n",
              "      border-color: transparent;\n",
              "      border-right-color: var(--fill-color);\n",
              "      border-top-color: var(--fill-color);\n",
              "    }\n",
              "    60% {\n",
              "      border-color: transparent;\n",
              "      border-right-color: var(--fill-color);\n",
              "    }\n",
              "    80% {\n",
              "      border-color: transparent;\n",
              "      border-right-color: var(--fill-color);\n",
              "      border-bottom-color: var(--fill-color);\n",
              "    }\n",
              "    90% {\n",
              "      border-color: transparent;\n",
              "      border-bottom-color: var(--fill-color);\n",
              "    }\n",
              "  }\n",
              "</style>\n",
              "\n",
              "  <script>\n",
              "    async function quickchart(key) {\n",
              "      const quickchartButtonEl =\n",
              "        document.querySelector('#' + key + ' button');\n",
              "      quickchartButtonEl.disabled = true;  // To prevent multiple clicks.\n",
              "      quickchartButtonEl.classList.add('colab-df-spinner');\n",
              "      try {\n",
              "        const charts = await google.colab.kernel.invokeFunction(\n",
              "            'suggestCharts', [key], {});\n",
              "      } catch (error) {\n",
              "        console.error('Error during call to suggestCharts:', error);\n",
              "      }\n",
              "      quickchartButtonEl.classList.remove('colab-df-spinner');\n",
              "      quickchartButtonEl.classList.add('colab-df-quickchart-complete');\n",
              "    }\n",
              "    (() => {\n",
              "      let quickchartButtonEl =\n",
              "        document.querySelector('#df-b7f3d8e5-abbf-4219-a607-83922bce6623 button');\n",
              "      quickchartButtonEl.style.display =\n",
              "        google.colab.kernel.accessAllowed ? 'block' : 'none';\n",
              "    })();\n",
              "  </script>\n",
              "</div>\n",
              "\n",
              "    </div>\n",
              "  </div>\n"
            ],
            "application/vnd.google.colaboratory.intrinsic+json": {
              "type": "dataframe",
              "variable_name": "features",
              "summary": "{\n  \"name\": \"features\",\n  \"rows\": 50,\n  \"fields\": [\n    {\n      \"column\": \"Murder\",\n      \"properties\": {\n        \"dtype\": \"number\",\n        \"std\": 4.355509764209288,\n        \"min\": 0.8,\n        \"max\": 17.4,\n        \"num_unique_values\": 43,\n        \"samples\": [\n          12.7,\n          12.2,\n          7.4\n        ],\n        \"semantic_type\": \"\",\n        \"description\": \"\"\n      }\n    },\n    {\n      \"column\": \"Assault\",\n      \"properties\": {\n        \"dtype\": \"number\",\n        \"std\": 83,\n        \"min\": 45,\n        \"max\": 337,\n        \"num_unique_values\": 45,\n        \"samples\": [\n          48,\n          252,\n          57\n        ],\n        \"semantic_type\": \"\",\n        \"description\": \"\"\n      }\n    },\n    {\n      \"column\": \"UrbanPop\",\n      \"properties\": {\n        \"dtype\": \"number\",\n        \"std\": 14,\n        \"min\": 32,\n        \"max\": 91,\n        \"num_unique_values\": 36,\n        \"samples\": [\n          39,\n          66,\n          86\n        ],\n        \"semantic_type\": \"\",\n        \"description\": \"\"\n      }\n    },\n    {\n      \"column\": \"Rape\",\n      \"properties\": {\n        \"dtype\": \"number\",\n        \"std\": 9.36638453105965,\n        \"min\": 7.3,\n        \"max\": 46.0,\n        \"num_unique_values\": 48,\n        \"samples\": [\n          9.5,\n          25.5,\n          46.0\n        ],\n        \"semantic_type\": \"\",\n        \"description\": \"\"\n      }\n    }\n  ]\n}"
            }
          },
          "metadata": {},
          "execution_count": 6
        }
      ]
    },
    {
      "cell_type": "code",
      "source": [
        "crime_df.shape"
      ],
      "metadata": {
        "colab": {
          "base_uri": "https://localhost:8080/"
        },
        "id": "vPp30dLxs20F",
        "outputId": "2c2d80de-9ee2-4b09-b967-840acdb56c6d"
      },
      "execution_count": 7,
      "outputs": [
        {
          "output_type": "execute_result",
          "data": {
            "text/plain": [
              "(50, 5)"
            ]
          },
          "metadata": {},
          "execution_count": 7
        }
      ]
    },
    {
      "cell_type": "markdown",
      "source": [
        "### **Scaling**\n",
        "Feature scaling is the process of normalizing the range of features in a dataset."
      ],
      "metadata": {
        "id": "7IltlefMuUTw"
      }
    },
    {
      "cell_type": "code",
      "source": [
        "scaler=MinMaxScaler()\n",
        "scaled_features=scaler.fit_transform(features)"
      ],
      "metadata": {
        "id": "BswzYkCpuNJ9"
      },
      "execution_count": 8,
      "outputs": []
    },
    {
      "cell_type": "code",
      "source": [
        "scaled_features"
      ],
      "metadata": {
        "colab": {
          "base_uri": "https://localhost:8080/"
        },
        "id": "AD6oPcHcvKQc",
        "outputId": "1463244e-9738-401b-d29a-72478cd4d628"
      },
      "execution_count": 9,
      "outputs": [
        {
          "output_type": "execute_result",
          "data": {
            "text/plain": [
              "array([[0.74698795, 0.65410959, 0.44067797, 0.35917313],\n",
              "       [0.55421687, 0.74657534, 0.27118644, 0.96124031],\n",
              "       [0.43975904, 0.85273973, 0.81355932, 0.6124031 ],\n",
              "       [0.48192771, 0.49657534, 0.30508475, 0.31524548],\n",
              "       [0.4939759 , 0.79109589, 1.        , 0.86046512],\n",
              "       [0.42771084, 0.54452055, 0.77966102, 0.81136951],\n",
              "       [0.15060241, 0.22260274, 0.76271186, 0.09819121],\n",
              "       [0.30722892, 0.6609589 , 0.6779661 , 0.21963824],\n",
              "       [0.87951807, 0.99315068, 0.81355932, 0.63565891],\n",
              "       [1.        , 0.56849315, 0.47457627, 0.47803618],\n",
              "       [0.27108434, 0.00342466, 0.86440678, 0.33333333],\n",
              "       [0.10843373, 0.25684932, 0.37288136, 0.17829457],\n",
              "       [0.57831325, 0.69863014, 0.86440678, 0.43152455],\n",
              "       [0.38554217, 0.23287671, 0.55932203, 0.35400517],\n",
              "       [0.08433735, 0.03767123, 0.42372881, 0.10335917],\n",
              "       [0.31325301, 0.23972603, 0.57627119, 0.27648579],\n",
              "       [0.53614458, 0.21917808, 0.33898305, 0.23255814],\n",
              "       [0.87951807, 0.69863014, 0.57627119, 0.38501292],\n",
              "       [0.07831325, 0.13013699, 0.3220339 , 0.0129199 ],\n",
              "       [0.63253012, 0.87328767, 0.59322034, 0.52971576],\n",
              "       [0.21686747, 0.35616438, 0.89830508, 0.23255814],\n",
              "       [0.68072289, 0.71917808, 0.71186441, 0.71834625],\n",
              "       [0.11445783, 0.09246575, 0.57627119, 0.19638243],\n",
              "       [0.92168675, 0.73287671, 0.20338983, 0.25322997],\n",
              "       [0.4939759 , 0.45547945, 0.6440678 , 0.54005168],\n",
              "       [0.31325301, 0.21917808, 0.3559322 , 0.23514212],\n",
              "       [0.21084337, 0.19520548, 0.50847458, 0.2377261 ],\n",
              "       [0.68674699, 0.70890411, 0.83050847, 1.        ],\n",
              "       [0.07831325, 0.04109589, 0.40677966, 0.05684755],\n",
              "       [0.39759036, 0.39041096, 0.96610169, 0.29715762],\n",
              "       [0.63855422, 0.82191781, 0.6440678 , 0.64082687],\n",
              "       [0.62048193, 0.71575342, 0.91525424, 0.48578811],\n",
              "       [0.73493976, 1.        , 0.22033898, 0.22739018],\n",
              "       [0.        , 0.        , 0.20338983, 0.        ],\n",
              "       [0.39156627, 0.25684932, 0.72881356, 0.36434109],\n",
              "       [0.34939759, 0.3630137 , 0.61016949, 0.32816537],\n",
              "       [0.24698795, 0.39041096, 0.59322034, 0.56847545],\n",
              "       [0.3313253 , 0.20890411, 0.6779661 , 0.19638243],\n",
              "       [0.15662651, 0.44178082, 0.93220339, 0.02583979],\n",
              "       [0.81927711, 0.80136986, 0.27118644, 0.39276486],\n",
              "       [0.18072289, 0.14041096, 0.22033898, 0.14211886],\n",
              "       [0.74698795, 0.48972603, 0.45762712, 0.50645995],\n",
              "       [0.71686747, 0.53424658, 0.81355932, 0.47028424],\n",
              "       [0.14457831, 0.25684932, 0.81355932, 0.40310078],\n",
              "       [0.08433735, 0.01027397, 0.        , 0.10077519],\n",
              "       [0.46385542, 0.38013699, 0.52542373, 0.34625323],\n",
              "       [0.19277108, 0.34246575, 0.69491525, 0.48837209],\n",
              "       [0.29518072, 0.12328767, 0.11864407, 0.05167959],\n",
              "       [0.10843373, 0.02739726, 0.57627119, 0.09043928],\n",
              "       [0.36144578, 0.39726027, 0.47457627, 0.21447028]])"
            ]
          },
          "metadata": {},
          "execution_count": 9
        }
      ]
    },
    {
      "cell_type": "code",
      "source": [
        "scaled_features.shape"
      ],
      "metadata": {
        "colab": {
          "base_uri": "https://localhost:8080/"
        },
        "id": "AItGb_8YvaO7",
        "outputId": "a4548e50-5edf-40f1-96dc-df74d02a74b7"
      },
      "execution_count": 10,
      "outputs": [
        {
          "output_type": "execute_result",
          "data": {
            "text/plain": [
              "(50, 4)"
            ]
          },
          "metadata": {},
          "execution_count": 10
        }
      ]
    },
    {
      "cell_type": "markdown",
      "source": [
        "## Clustering Techniques"
      ],
      "metadata": {
        "id": "TiulDzWqvrCn"
      }
    },
    {
      "cell_type": "markdown",
      "source": [
        "### **1: Hierarchical clustering**"
      ],
      "metadata": {
        "id": "22YHX6wtvs80"
      }
    },
    {
      "cell_type": "code",
      "source": [
        "model_h=AgglomerativeClustering(n_clusters=3,affinity='l2',linkage='complete')\n",
        "model_h.fit_predict(scaled_features)"
      ],
      "metadata": {
        "id": "P9ffHpLBvlHt",
        "colab": {
          "base_uri": "https://localhost:8080/"
        },
        "outputId": "5c714e3b-ca7d-4fb2-f84b-5304697b9cec"
      },
      "execution_count": 11,
      "outputs": [
        {
          "output_type": "stream",
          "name": "stderr",
          "text": [
            "/usr/local/lib/python3.10/dist-packages/sklearn/cluster/_agglomerative.py:983: FutureWarning: Attribute `affinity` was deprecated in version 1.2 and will be removed in 1.4. Use `metric` instead\n",
            "  warnings.warn(\n"
          ]
        },
        {
          "output_type": "execute_result",
          "data": {
            "text/plain": [
              "array([0, 0, 0, 1, 0, 0, 1, 1, 0, 0, 1, 2, 0, 1, 2, 1, 1, 0, 2, 0, 1, 0,\n",
              "       1, 0, 0, 2, 2, 0, 2, 1, 0, 0, 0, 2, 1, 1, 1, 1, 1, 0, 2, 0, 0, 1,\n",
              "       2, 1, 1, 2, 1, 1])"
            ]
          },
          "metadata": {},
          "execution_count": 11
        }
      ]
    },
    {
      "cell_type": "code",
      "source": [
        "from scipy.cluster.hierarchy import dendrogram,linkage\n",
        "from scipy.spatial.distance import pdist\n",
        "import matplotlib.pyplot as plt\n",
        "from sklearn.cluster import AgglomerativeClustering\n",
        "\n",
        "xdist=pdist(scaled_features,metric='euclidean')\n",
        "linked=linkage(xdist,'ward')\n",
        "\n",
        "plt.figure(figsize=(8,4))\n",
        "dendrogram(linked,\n",
        "           orientation='top',\n",
        "           distance_sort='descending',\n",
        "           show_leaf_counts=True)\n",
        "\n",
        "plt.show();"
      ],
      "metadata": {
        "colab": {
          "base_uri": "https://localhost:8080/",
          "height": 368
        },
        "id": "7-EVP44_npjI",
        "outputId": "fc122b92-eb17-49d8-a671-cef444d7b11c"
      },
      "execution_count": 12,
      "outputs": [
        {
          "output_type": "display_data",
          "data": {
            "text/plain": [
              "<Figure size 800x400 with 1 Axes>"
            ],
            "image/png": "[encoded data removed]"
          },
          "metadata": {}
        }
      ]
    },
    {
      "cell_type": "code",
      "source": [
        "model2_h=AgglomerativeClustering(n_clusters=3,affinity='l2',linkage='complete')\n",
        "model2_h.fit_predict(scaled_features)"
      ],
      "metadata": {
        "id": "2G5_3xZ0vjBw",
        "colab": {
          "base_uri": "https://localhost:8080/"
        },
        "outputId": "9627e52a-a00a-4876-cbc1-54b935c42187"
      },
      "execution_count": 13,
      "outputs": [
        {
          "output_type": "stream",
          "name": "stderr",
          "text": [
            "/usr/local/lib/python3.10/dist-packages/sklearn/cluster/_agglomerative.py:983: FutureWarning: Attribute `affinity` was deprecated in version 1.2 and will be removed in 1.4. Use `metric` instead\n",
            "  warnings.warn(\n"
          ]
        },
        {
          "output_type": "execute_result",
          "data": {
            "text/plain": [
              "array([0, 0, 0, 1, 0, 0, 1, 1, 0, 0, 1, 2, 0, 1, 2, 1, 1, 0, 2, 0, 1, 0,\n",
              "       1, 0, 0, 2, 2, 0, 2, 1, 0, 0, 0, 2, 1, 1, 1, 1, 1, 0, 2, 0, 0, 1,\n",
              "       2, 1, 1, 2, 1, 1])"
            ]
          },
          "metadata": {},
          "execution_count": 13
        }
      ]
    },
    {
      "cell_type": "markdown",
      "source": [
        "### **2: K-Means Clustering**"
      ],
      "metadata": {
        "id": "bxESg50GI1ow"
      }
    },
    {
      "cell_type": "code",
      "source": [
        "model_k=KMeans(n_clusters=3)\n",
        "model_k.fit_predict(scaled_features)"
      ],
      "metadata": {
        "colab": {
          "base_uri": "https://localhost:8080/"
        },
        "id": "9IyCF_E3DK-x",
        "outputId": "5e027491-0e37-44d6-c0ba-89fe1940e55a"
      },
      "execution_count": 14,
      "outputs": [
        {
          "output_type": "stream",
          "name": "stderr",
          "text": [
            "/usr/local/lib/python3.10/dist-packages/sklearn/cluster/_kmeans.py:870: FutureWarning: The default value of `n_init` will change from 10 to 'auto' in 1.4. Set the value of `n_init` explicitly to suppress the warning\n",
            "  warnings.warn(\n"
          ]
        },
        {
          "output_type": "execute_result",
          "data": {
            "text/plain": [
              "array([1, 1, 1, 2, 1, 1, 2, 2, 1, 1, 2, 0, 1, 2, 0, 2, 0, 1, 0, 1, 2, 1,\n",
              "       0, 1, 1, 0, 0, 1, 0, 2, 1, 1, 1, 0, 2, 2, 2, 2, 2, 1, 0, 1, 1, 2,\n",
              "       0, 2, 2, 0, 0, 2], dtype=int32)"
            ]
          },
          "metadata": {},
          "execution_count": 14
        }
      ]
    },
    {
      "cell_type": "code",
      "source": [
        "model_k.cluster_centers_"
      ],
      "metadata": {
        "colab": {
          "base_uri": "https://localhost:8080/"
        },
        "id": "r5HrvCl6nTJ6",
        "outputId": "5f5d3bf2-3404-4ab6-8ec3-407975f6348a"
      },
      "execution_count": 15,
      "outputs": [
        {
          "output_type": "execute_result",
          "data": {
            "text/plain": [
              "array([[0.1686747 , 0.11485774, 0.34028683, 0.12601868],\n",
              "       [0.68463855, 0.72003425, 0.61694915, 0.56498708],\n",
              "       [0.30368533, 0.33178888, 0.68594217, 0.29776562]])"
            ]
          },
          "metadata": {},
          "execution_count": 15
        }
      ]
    },
    {
      "cell_type": "markdown",
      "source": [
        "### **3:Example for  DBSCAN Clustering**"
      ],
      "metadata": {
        "id": "3TkdnOxxJig2"
      }
    },
    {
      "cell_type": "code",
      "source": [
        "from sklearn.datasets import make_moons\n",
        "import matplotlib.pyplot as plt"
      ],
      "metadata": {
        "id": "KWmJOPtaDLD2"
      },
      "execution_count": 16,
      "outputs": []
    },
    {
      "cell_type": "code",
      "source": [
        "x,y=make_moons(100)\n"
      ],
      "metadata": {
        "id": "w8HA2gFzDLIs"
      },
      "execution_count": 17,
      "outputs": []
    },
    {
      "cell_type": "code",
      "source": [
        "x"
      ],
      "metadata": {
        "id": "yclxlk0ODLMH",
        "colab": {
          "base_uri": "https://localhost:8080/"
        },
        "outputId": "ec7d8583-3d4f-4863-e584-a24aaca24754"
      },
      "execution_count": 18,
      "outputs": [
        {
          "output_type": "execute_result",
          "data": {
            "text/plain": [
              "array([[ 9.91790014e-01,  1.27877162e-01],\n",
              "       [ 1.80141362e+00, -9.81105305e-02],\n",
              "       [-4.62538290e-01,  8.86599306e-01],\n",
              "       [ 2.38554042e-01, -1.48228395e-01],\n",
              "       [ 8.38088105e-01,  5.45534901e-01],\n",
              "       [ 1.92691676e+00,  1.24732995e-01],\n",
              "       [ 1.90096887e+00,  6.61162609e-02],\n",
              "       [ 1.59599895e-01,  9.87181783e-01],\n",
              "       [ 9.90311321e-02,  6.61162609e-02],\n",
              "       [-8.38088105e-01,  5.45534901e-01],\n",
              "       [ 7.18349350e-01,  6.95682551e-01],\n",
              "       [-9.60230259e-02,  9.95379113e-01],\n",
              "       [ 1.61911895e-01, -4.55349012e-02],\n",
              "       [ 8.40400105e-01, -4.87181783e-01],\n",
              "       [-9.67294863e-01,  2.53654584e-01],\n",
              "       [-8.71318704e-01,  4.90717552e-01],\n",
              "       [ 1.62348980e+00, -2.81831482e-01],\n",
              "       [ 1.28452759e+00, -4.58667853e-01],\n",
              "       [-5.72116660e-01,  8.20172255e-01],\n",
              "       [ 5.18392568e-01,  8.55142763e-01],\n",
              "       [-6.23489802e-01,  7.81831482e-01],\n",
              "       [ 1.76144596e+00, -1.48228395e-01],\n",
              "       [ 2.22520934e-01,  9.74927912e-01],\n",
              "       [ 5.72116660e-01,  8.20172255e-01],\n",
              "       [-6.72300890e-01,  7.40277997e-01],\n",
              "       [ 3.20515776e-02,  9.99486216e-01],\n",
              "       [ 1.98155916e+00,  3.08841371e-01],\n",
              "       [ 9.49055747e-01,  3.15108218e-01],\n",
              "       [ 1.87131870e+00,  9.28244800e-03],\n",
              "       [ 2.05460725e-03,  4.35929780e-01],\n",
              "       [ 2.00000000e+00,  5.00000000e-01],\n",
              "       [ 9.81559157e-01,  1.91158629e-01],\n",
              "       [ 1.57211666e+00, -3.20172255e-01],\n",
              "       [ 8.01413622e-01,  5.98110530e-01],\n",
              "       [ 1.00000000e+00,  0.00000000e+00],\n",
              "       [-3.45365054e-01,  9.38468422e-01],\n",
              "       [ 3.45365054e-01,  9.38468422e-01],\n",
              "       [ 5.09442530e-02,  1.84891782e-01],\n",
              "       [ 9.67294863e-01,  2.53654584e-01],\n",
              "       [ 8.20998618e-03,  3.72122838e-01],\n",
              "       [ 8.71318704e-01,  4.90717552e-01],\n",
              "       [ 1.15959990e+00, -4.87181783e-01],\n",
              "       [ 7.30832427e-02,  1.24732995e-01],\n",
              "       [ 9.00968868e-01,  4.33883739e-01],\n",
              "       [ 6.23489802e-01,  7.81831482e-01],\n",
              "       [-2.84527587e-01,  9.58667853e-01],\n",
              "       [ 7.77479066e-01, -4.74927912e-01],\n",
              "       [ 6.72300890e-01,  7.40277997e-01],\n",
              "       [ 1.46253829e+00, -3.86599306e-01],\n",
              "       [-1.00000000e+00,  1.22464680e-16],\n",
              "       [ 9.67948422e-01, -4.99486216e-01],\n",
              "       [ 2.81650650e-01, -1.95682551e-01],\n",
              "       [ 1.40478334e+00, -4.14412623e-01],\n",
              "       [ 1.99179001e+00,  3.72122838e-01],\n",
              "       [-9.00968868e-01,  4.33883739e-01],\n",
              "       [ 9.26916757e-01,  3.75267005e-01],\n",
              "       [ 3.27699110e-01, -2.40277997e-01],\n",
              "       [-9.81559157e-01,  1.91158629e-01],\n",
              "       [-9.26916757e-01,  3.75267005e-01],\n",
              "       [ 4.81607432e-01, -3.55142763e-01],\n",
              "       [ 4.62538290e-01,  8.86599306e-01],\n",
              "       [ 9.60230259e-02,  9.95379113e-01],\n",
              "       [ 1.84408430e-02,  3.08841371e-01],\n",
              "       [ 3.76510198e-01, -2.81831482e-01],\n",
              "       [ 2.84527587e-01,  9.58667853e-01],\n",
              "       [ 3.27051370e-02,  2.46345416e-01],\n",
              "       [-7.18349350e-01,  6.95682551e-01],\n",
              "       [ 1.34536505e+00, -4.38468422e-01],\n",
              "       [-8.01413622e-01,  5.98110530e-01],\n",
              "       [ 1.71834935e+00, -1.95682551e-01],\n",
              "       [-3.20515776e-02,  9.99486216e-01],\n",
              "       [ 1.99794539e+00,  4.35929780e-01],\n",
              "       [ 5.37461710e-01, -3.86599306e-01],\n",
              "       [ 1.96729486e+00,  2.46345416e-01],\n",
              "       [ 7.61445958e-01,  6.48228395e-01],\n",
              "       [ 6.54634946e-01, -4.38468422e-01],\n",
              "       [ 4.27883340e-01, -3.20172255e-01],\n",
              "       [-1.59599895e-01,  9.87181783e-01],\n",
              "       [ 1.98586378e-01, -9.81105305e-02],\n",
              "       [ 1.83808810e+00, -4.55349012e-02],\n",
              "       [-5.18392568e-01,  8.55142763e-01],\n",
              "       [ 0.00000000e+00,  5.00000000e-01],\n",
              "       [-9.91790014e-01,  1.27877162e-01],\n",
              "       [ 4.04783343e-01,  9.14412623e-01],\n",
              "       [ 7.15472413e-01, -4.58667853e-01],\n",
              "       [ 1.94905575e+00,  1.84891782e-01],\n",
              "       [ 9.97945393e-01,  6.40702200e-02],\n",
              "       [-9.97945393e-01,  6.40702200e-02],\n",
              "       [ 1.67230089e+00, -2.40277997e-01],\n",
              "       [ 1.03205158e+00, -4.99486216e-01],\n",
              "       [-2.22520934e-01,  9.74927912e-01],\n",
              "       [ 1.28681296e-01,  9.28244800e-03],\n",
              "       [ 9.03976974e-01, -4.95379113e-01],\n",
              "       [-4.04783343e-01,  9.14412623e-01],\n",
              "       [ 1.22252093e+00, -4.74927912e-01],\n",
              "       [-7.61445958e-01,  6.48228395e-01],\n",
              "       [ 5.95216657e-01, -4.14412623e-01],\n",
              "       [-9.49055747e-01,  3.15108218e-01],\n",
              "       [ 1.09602303e+00, -4.95379113e-01],\n",
              "       [ 1.51839257e+00, -3.55142763e-01]])"
            ]
          },
          "metadata": {},
          "execution_count": 18
        }
      ]
    },
    {
      "cell_type": "code",
      "source": [
        "x.shape"
      ],
      "metadata": {
        "colab": {
          "base_uri": "https://localhost:8080/"
        },
        "id": "D80r9OFOiKeP",
        "outputId": "52c6e64a-1c27-4c7a-e3cb-797bc5eefe24"
      },
      "execution_count": 19,
      "outputs": [
        {
          "output_type": "execute_result",
          "data": {
            "text/plain": [
              "(100, 2)"
            ]
          },
          "metadata": {},
          "execution_count": 19
        }
      ]
    },
    {
      "cell_type": "code",
      "source": [
        "y"
      ],
      "metadata": {
        "id": "XihZ-Y4LDLPg",
        "colab": {
          "base_uri": "https://localhost:8080/"
        },
        "outputId": "f94c0ce0-4109-4bc1-832d-706921e3b39a"
      },
      "execution_count": 20,
      "outputs": [
        {
          "output_type": "execute_result",
          "data": {
            "text/plain": [
              "array([0, 1, 0, 1, 0, 1, 1, 0, 1, 0, 0, 0, 1, 1, 0, 0, 1, 1, 0, 0, 0, 1,\n",
              "       0, 0, 0, 0, 1, 0, 1, 1, 1, 0, 1, 0, 0, 0, 0, 1, 0, 1, 0, 1, 1, 0,\n",
              "       0, 0, 1, 0, 1, 0, 1, 1, 1, 1, 0, 0, 1, 0, 0, 1, 0, 0, 1, 1, 0, 1,\n",
              "       0, 1, 0, 1, 0, 1, 1, 1, 0, 1, 1, 0, 1, 1, 0, 1, 0, 0, 1, 1, 0, 0,\n",
              "       1, 1, 0, 1, 1, 0, 1, 0, 1, 0, 1, 1])"
            ]
          },
          "metadata": {},
          "execution_count": 20
        }
      ]
    },
    {
      "cell_type": "code",
      "source": [
        "y.shape"
      ],
      "metadata": {
        "id": "p84Mua_DDMSz",
        "colab": {
          "base_uri": "https://localhost:8080/"
        },
        "outputId": "ef404481-dbb3-4c1a-ea38-1b9e7ee0189b"
      },
      "execution_count": 21,
      "outputs": [
        {
          "output_type": "execute_result",
          "data": {
            "text/plain": [
              "(100,)"
            ]
          },
          "metadata": {},
          "execution_count": 21
        }
      ]
    },
    {
      "cell_type": "code",
      "source": [
        "plt.figure(figsize=(8,4))\n",
        "plt.style.use('seaborn-darkgrid')\n",
        "plt.scatter(x[:,0],x[:,1]);"
      ],
      "metadata": {
        "id": "6XXwM1wZDMWU",
        "colab": {
          "base_uri": "https://localhost:8080/",
          "height": 418
        },
        "outputId": "12034597-80fb-4b15-84bb-f92f6e026923"
      },
      "execution_count": 22,
      "outputs": [
        {
          "output_type": "stream",
          "name": "stderr",
          "text": [
            "<ipython-input-22-bf0c83d6a73c>:2: MatplotlibDeprecationWarning: The seaborn styles shipped by Matplotlib are deprecated since 3.6, as they no longer correspond to the styles shipped by seaborn. However, they will remain available as 'seaborn-v0_8-<style>'. Alternatively, directly use the seaborn API instead.\n",
            "  plt.style.use('seaborn-darkgrid')\n"
          ]
        },
        {
          "output_type": "display_data",
          "data": {
            "text/plain": [
              "<Figure size 800x400 with 1 Axes>"
            ],
            "image/png": "[encoded data removed]"
          },
          "metadata": {}
        }
      ]
    },
    {
      "cell_type": "code",
      "source": [
        "model_d1=DBSCAN(min_samples=2,eps=0.1)\n",
        "model_d1.fit_predict(x)"
      ],
      "metadata": {
        "id": "tLNJLAC7DMZy",
        "colab": {
          "base_uri": "https://localhost:8080/"
        },
        "outputId": "454225d2-c3f3-4614-db1f-f34ccda8f458"
      },
      "execution_count": 23,
      "outputs": [
        {
          "output_type": "execute_result",
          "data": {
            "text/plain": [
              "array([0, 1, 0, 1, 0, 1, 1, 0, 1, 0, 0, 0, 1, 1, 0, 0, 1, 1, 0, 0, 0, 1,\n",
              "       0, 0, 0, 0, 1, 0, 1, 1, 1, 0, 1, 0, 0, 0, 0, 1, 0, 1, 0, 1, 1, 0,\n",
              "       0, 0, 1, 0, 1, 0, 1, 1, 1, 1, 0, 0, 1, 0, 0, 1, 0, 0, 1, 1, 0, 1,\n",
              "       0, 1, 0, 1, 0, 1, 1, 1, 0, 1, 1, 0, 1, 1, 0, 1, 0, 0, 1, 1, 0, 0,\n",
              "       1, 1, 0, 1, 1, 0, 1, 0, 1, 0, 1, 1])"
            ]
          },
          "metadata": {},
          "execution_count": 23
        }
      ]
    },
    {
      "cell_type": "code",
      "source": [
        "plt.figure(figsize=(8,4))\n",
        "plt.style.use('seaborn-darkgrid')\n",
        "plt.scatter(x[:,0],x[:,1],c=model_d1.fit_predict(x),cmap=plt.cm.rainbow_r);"
      ],
      "metadata": {
        "colab": {
          "base_uri": "https://localhost:8080/",
          "height": 418
        },
        "id": "tNBGkq27jeVT",
        "outputId": "c1d0b6db-38a6-497c-a9c2-71cfec7bec54"
      },
      "execution_count": 24,
      "outputs": [
        {
          "output_type": "stream",
          "name": "stderr",
          "text": [
            "<ipython-input-24-dfbd0065fe93>:2: MatplotlibDeprecationWarning: The seaborn styles shipped by Matplotlib are deprecated since 3.6, as they no longer correspond to the styles shipped by seaborn. However, they will remain available as 'seaborn-v0_8-<style>'. Alternatively, directly use the seaborn API instead.\n",
            "  plt.style.use('seaborn-darkgrid')\n"
          ]
        },
        {
          "output_type": "display_data",
          "data": {
            "text/plain": [
              "<Figure size 800x400 with 1 Axes>"
            ],
            "image/png": "[encoded data removed]"
          },
          "metadata": {}
        }
      ]
    },
    {
      "cell_type": "code",
      "source": [
        "model_k1=KMeans(n_clusters=2)\n",
        "model_k1.fit_predict(x)\n",
        "\n",
        "plt.figure(figsize=(8,4))\n",
        "plt.style.use('seaborn-darkgrid')\n",
        "plt.scatter(model_k1.cluster_centers_[:,0],model_k1.cluster_centers_[:,1])\n",
        "plt.scatter(x[:,0],x[:,1],c=model_k1.fit_predict(x),cmap=plt.cm.rainbow_r)\n",
        "plt.show();"
      ],
      "metadata": {
        "colab": {
          "base_uri": "https://localhost:8080/",
          "height": 487
        },
        "id": "SQcR9wTPjebP",
        "outputId": "dc6f2a5c-4be9-4844-9d00-2c3f85e2f19e"
      },
      "execution_count": 25,
      "outputs": [
        {
          "output_type": "stream",
          "name": "stderr",
          "text": [
            "/usr/local/lib/python3.10/dist-packages/sklearn/cluster/_kmeans.py:870: FutureWarning: The default value of `n_init` will change from 10 to 'auto' in 1.4. Set the value of `n_init` explicitly to suppress the warning\n",
            "  warnings.warn(\n",
            "<ipython-input-25-0bc7229356b8>:5: MatplotlibDeprecationWarning: The seaborn styles shipped by Matplotlib are deprecated since 3.6, as they no longer correspond to the styles shipped by seaborn. However, they will remain available as 'seaborn-v0_8-<style>'. Alternatively, directly use the seaborn API instead.\n",
            "  plt.style.use('seaborn-darkgrid')\n",
            "/usr/local/lib/python3.10/dist-packages/sklearn/cluster/_kmeans.py:870: FutureWarning: The default value of `n_init` will change from 10 to 'auto' in 1.4. Set the value of `n_init` explicitly to suppress the warning\n",
            "  warnings.warn(\n"
          ]
        },
        {
          "output_type": "display_data",
          "data": {
            "text/plain": [
              "<Figure size 800x400 with 1 Axes>"
            ],
            "image/png": "[encoded data removed]"
          },
          "metadata": {}
        }
      ]
    },
    {
      "cell_type": "code",
      "source": [
        "model_k1.cluster_centers_"
      ],
      "metadata": {
        "colab": {
          "base_uri": "https://localhost:8080/"
        },
        "id": "f2Kw5CVtjefe",
        "outputId": "1a47c25a-cfdf-4bfa-ceb2-d1df6f230c9d"
      },
      "execution_count": 26,
      "outputs": [
        {
          "output_type": "execute_result",
          "data": {
            "text/plain": [
              "array([[ 1.20824586, -0.06410191],\n",
              "       [-0.20824586,  0.56410191]])"
            ]
          },
          "metadata": {},
          "execution_count": 26
        }
      ]
    },
    {
      "cell_type": "code",
      "source": [
        "model_h1=AgglomerativeClustering(n_clusters=2,affinity=\"l2\",linkage=\"single\")\n",
        "\n",
        "model_h1.fit_predict(x)\n",
        "plt.figure(figsize=(8,4))\n",
        "plt.style.use(\"seaborn-darkgrid\")\n",
        "plt.scatter(x[:,0],x[:,1],c=model_h1.fit_predict(x),cmap=plt.cm.rainbow_r)"
      ],
      "metadata": {
        "colab": {
          "base_uri": "https://localhost:8080/",
          "height": 504
        },
        "id": "G35oo83rjejH",
        "outputId": "ed9945c1-8db5-41db-d3dd-3bf97f9e1cbc"
      },
      "execution_count": 27,
      "outputs": [
        {
          "output_type": "stream",
          "name": "stderr",
          "text": [
            "/usr/local/lib/python3.10/dist-packages/sklearn/cluster/_agglomerative.py:983: FutureWarning: Attribute `affinity` was deprecated in version 1.2 and will be removed in 1.4. Use `metric` instead\n",
            "  warnings.warn(\n",
            "<ipython-input-27-cb691ab2195a>:5: MatplotlibDeprecationWarning: The seaborn styles shipped by Matplotlib are deprecated since 3.6, as they no longer correspond to the styles shipped by seaborn. However, they will remain available as 'seaborn-v0_8-<style>'. Alternatively, directly use the seaborn API instead.\n",
            "  plt.style.use(\"seaborn-darkgrid\")\n",
            "/usr/local/lib/python3.10/dist-packages/sklearn/cluster/_agglomerative.py:983: FutureWarning: Attribute `affinity` was deprecated in version 1.2 and will be removed in 1.4. Use `metric` instead\n",
            "  warnings.warn(\n"
          ]
        },
        {
          "output_type": "execute_result",
          "data": {
            "text/plain": [
              "<matplotlib.collections.PathCollection at 0x797b24141fc0>"
            ]
          },
          "metadata": {},
          "execution_count": 27
        },
        {
          "output_type": "display_data",
          "data": {
            "text/plain": [
              "<Figure size 800x400 with 1 Axes>"
            ],
            "image/png": "[encoded data removed]"
          },
          "metadata": {}
        }
      ]
    },
    {
      "cell_type": "code",
      "source": [],
      "metadata": {
        "id": "LBZarZRCjeni"
      },
      "execution_count": null,
      "outputs": []
    },
    {
      "cell_type": "markdown",
      "source": [
        "## Evaluation"
      ],
      "metadata": {
        "id": "Tw4ane4FrZq5"
      }
    },
    {
      "cell_type": "markdown",
      "source": [
        "### **1: Elbow Method for KMeans Clustering**"
      ],
      "metadata": {
        "id": "rYI0wxBerkz1"
      }
    },
    {
      "cell_type": "code",
      "source": [
        "k=[]\n",
        "\n",
        "for i in range(1,11):\n",
        "  model=KMeans(n_clusters=i)\n",
        "  model.fit(scaled_features)\n",
        "  k.append(model.inertia_)\n",
        "\n",
        "k"
      ],
      "metadata": {
        "colab": {
          "base_uri": "https://localhost:8080/"
        },
        "id": "EAxn2a8Pjeqz",
        "outputId": "d13216bd-8744-4afe-e46a-17f27c1efbdf"
      },
      "execution_count": 28,
      "outputs": [
        {
          "output_type": "stream",
          "name": "stderr",
          "text": [
            "/usr/local/lib/python3.10/dist-packages/sklearn/cluster/_kmeans.py:870: FutureWarning: The default value of `n_init` will change from 10 to 'auto' in 1.4. Set the value of `n_init` explicitly to suppress the warning\n",
            "  warnings.warn(\n",
            "/usr/local/lib/python3.10/dist-packages/sklearn/cluster/_kmeans.py:870: FutureWarning: The default value of `n_init` will change from 10 to 'auto' in 1.4. Set the value of `n_init` explicitly to suppress the warning\n",
            "  warnings.warn(\n",
            "/usr/local/lib/python3.10/dist-packages/sklearn/cluster/_kmeans.py:870: FutureWarning: The default value of `n_init` will change from 10 to 'auto' in 1.4. Set the value of `n_init` explicitly to suppress the warning\n",
            "  warnings.warn(\n",
            "/usr/local/lib/python3.10/dist-packages/sklearn/cluster/_kmeans.py:870: FutureWarning: The default value of `n_init` will change from 10 to 'auto' in 1.4. Set the value of `n_init` explicitly to suppress the warning\n",
            "  warnings.warn(\n",
            "/usr/local/lib/python3.10/dist-packages/sklearn/cluster/_kmeans.py:870: FutureWarning: The default value of `n_init` will change from 10 to 'auto' in 1.4. Set the value of `n_init` explicitly to suppress the warning\n",
            "  warnings.warn(\n",
            "/usr/local/lib/python3.10/dist-packages/sklearn/cluster/_kmeans.py:870: FutureWarning: The default value of `n_init` will change from 10 to 'auto' in 1.4. Set the value of `n_init` explicitly to suppress the warning\n",
            "  warnings.warn(\n",
            "/usr/local/lib/python3.10/dist-packages/sklearn/cluster/_kmeans.py:870: FutureWarning: The default value of `n_init` will change from 10 to 'auto' in 1.4. Set the value of `n_init` explicitly to suppress the warning\n",
            "  warnings.warn(\n",
            "/usr/local/lib/python3.10/dist-packages/sklearn/cluster/_kmeans.py:870: FutureWarning: The default value of `n_init` will change from 10 to 'auto' in 1.4. Set the value of `n_init` explicitly to suppress the warning\n",
            "  warnings.warn(\n",
            "/usr/local/lib/python3.10/dist-packages/sklearn/cluster/_kmeans.py:870: FutureWarning: The default value of `n_init` will change from 10 to 'auto' in 1.4. Set the value of `n_init` explicitly to suppress the warning\n",
            "  warnings.warn(\n",
            "/usr/local/lib/python3.10/dist-packages/sklearn/cluster/_kmeans.py:870: FutureWarning: The default value of `n_init` will change from 10 to 'auto' in 1.4. Set the value of `n_init` explicitly to suppress the warning\n",
            "  warnings.warn(\n"
          ]
        },
        {
          "output_type": "execute_result",
          "data": {
            "text/plain": [
              "[13.184122550256447,\n",
              " 6.596893867946196,\n",
              " 5.010878493006417,\n",
              " 3.6834561535859134,\n",
              " 3.1953603385661573,\n",
              " 2.8700006834386063,\n",
              " 2.5407532357086753,\n",
              " 2.383209725774268,\n",
              " 2.245966289080333,\n",
              " 1.8968635528330566]"
            ]
          },
          "metadata": {},
          "execution_count": 28
        }
      ]
    },
    {
      "cell_type": "code",
      "source": [
        "plt.figure(figsize=(8,4))\n",
        "plt.style.use('seaborn-darkgrid')\n",
        "plt.scatter(range(1,11),k,s=100,color='black')\n",
        "plt.plot(range(1,11),k,linestyle='-.')\n",
        "plt.xticks(range(1,11))\n",
        "plt.show();"
      ],
      "metadata": {
        "colab": {
          "base_uri": "https://localhost:8080/",
          "height": 418
        },
        "id": "JLoQHdkor7jL",
        "outputId": "fad190ad-9979-4c5d-abf4-715b2f19bb98"
      },
      "execution_count": 29,
      "outputs": [
        {
          "output_type": "stream",
          "name": "stderr",
          "text": [
            "<ipython-input-29-7f55883dcd45>:2: MatplotlibDeprecationWarning: The seaborn styles shipped by Matplotlib are deprecated since 3.6, as they no longer correspond to the styles shipped by seaborn. However, they will remain available as 'seaborn-v0_8-<style>'. Alternatively, directly use the seaborn API instead.\n",
            "  plt.style.use('seaborn-darkgrid')\n"
          ]
        },
        {
          "output_type": "display_data",
          "data": {
            "text/plain": [
              "<Figure size 800x400 with 1 Axes>"
            ],
            "image/png": "[encoded data removed]"
          },
          "metadata": {}
        }
      ]
    },
    {
      "cell_type": "markdown",
      "source": [
        "**Elbow Method** : In cluster analysis, the elbow method is a heuristic used in determining the number of clusters in a data set. The method consists of plotting the explained variation as a function of the number of clusters and picking the elbow of the curve as the number of clusters to use.\n",
        "\n",
        "---\n",
        "\n",
        "\n",
        "> By Elbow Method for Kmeans clustering we got that there shold be 2 clusters."
      ],
      "metadata": {
        "id": "DUbrRL_ZVkYI"
      }
    },
    {
      "cell_type": "markdown",
      "source": [
        "### **2: Silhouette Method for all Clustering techniques**"
      ],
      "metadata": {
        "id": "_i4oGkyht5It"
      }
    },
    {
      "cell_type": "code",
      "source": [
        "from sklearn.metrics import silhouette_score"
      ],
      "metadata": {
        "id": "nLWnM-nUr7uv"
      },
      "execution_count": 30,
      "outputs": []
    },
    {
      "cell_type": "code",
      "source": [
        "#for KMean clustering technique\n",
        "\n",
        "nc=range(2,11)\n",
        "l=[]\n",
        "for i in nc:\n",
        "  model=KMeans(n_clusters=i)\n",
        "  #model.fit_predict(scaled_fearures)\n",
        "  l.append(silhouette_score(scaled_features,model.fit_predict(scaled_features)))\n",
        "\n",
        "\n",
        "\n",
        "#plotting\n",
        "plt.figure(figsize=(8,4))\n",
        "plt.style.use('seaborn-darkgrid')\n",
        "plt.scatter(nc,l,s=50,color='black')\n",
        "plt.plot(nc,l,color='red',linestyle='-.')\n",
        "plt.xticks(range(1,11))\n",
        "plt.show();\n",
        "\n",
        "# printing highest Silhouette score for the respective technique\n",
        "print(max(l),'for',nc[l.index(max(l))],\"clusters\")\n",
        "\n",
        "l"
      ],
      "metadata": {
        "colab": {
          "base_uri": "https://localhost:8080/",
          "height": 904
        },
        "id": "JhLx8qr-r7-f",
        "outputId": "11911729-8d05-4fd0-faaa-32946d783a50"
      },
      "execution_count": 31,
      "outputs": [
        {
          "output_type": "stream",
          "name": "stderr",
          "text": [
            "/usr/local/lib/python3.10/dist-packages/sklearn/cluster/_kmeans.py:870: FutureWarning: The default value of `n_init` will change from 10 to 'auto' in 1.4. Set the value of `n_init` explicitly to suppress the warning\n",
            "  warnings.warn(\n",
            "/usr/local/lib/python3.10/dist-packages/sklearn/cluster/_kmeans.py:870: FutureWarning: The default value of `n_init` will change from 10 to 'auto' in 1.4. Set the value of `n_init` explicitly to suppress the warning\n",
            "  warnings.warn(\n",
            "/usr/local/lib/python3.10/dist-packages/sklearn/cluster/_kmeans.py:870: FutureWarning: The default value of `n_init` will change from 10 to 'auto' in 1.4. Set the value of `n_init` explicitly to suppress the warning\n",
            "  warnings.warn(\n",
            "/usr/local/lib/python3.10/dist-packages/sklearn/cluster/_kmeans.py:870: FutureWarning: The default value of `n_init` will change from 10 to 'auto' in 1.4. Set the value of `n_init` explicitly to suppress the warning\n",
            "  warnings.warn(\n",
            "/usr/local/lib/python3.10/dist-packages/sklearn/cluster/_kmeans.py:870: FutureWarning: The default value of `n_init` will change from 10 to 'auto' in 1.4. Set the value of `n_init` explicitly to suppress the warning\n",
            "  warnings.warn(\n",
            "/usr/local/lib/python3.10/dist-packages/sklearn/cluster/_kmeans.py:870: FutureWarning: The default value of `n_init` will change from 10 to 'auto' in 1.4. Set the value of `n_init` explicitly to suppress the warning\n",
            "  warnings.warn(\n",
            "/usr/local/lib/python3.10/dist-packages/sklearn/cluster/_kmeans.py:870: FutureWarning: The default value of `n_init` will change from 10 to 'auto' in 1.4. Set the value of `n_init` explicitly to suppress the warning\n",
            "  warnings.warn(\n",
            "/usr/local/lib/python3.10/dist-packages/sklearn/cluster/_kmeans.py:870: FutureWarning: The default value of `n_init` will change from 10 to 'auto' in 1.4. Set the value of `n_init` explicitly to suppress the warning\n",
            "  warnings.warn(\n",
            "/usr/local/lib/python3.10/dist-packages/sklearn/cluster/_kmeans.py:870: FutureWarning: The default value of `n_init` will change from 10 to 'auto' in 1.4. Set the value of `n_init` explicitly to suppress the warning\n",
            "  warnings.warn(\n",
            "<ipython-input-31-7d0fb4fea403>:14: MatplotlibDeprecationWarning: The seaborn styles shipped by Matplotlib are deprecated since 3.6, as they no longer correspond to the styles shipped by seaborn. However, they will remain available as 'seaborn-v0_8-<style>'. Alternatively, directly use the seaborn API instead.\n",
            "  plt.style.use('seaborn-darkgrid')\n"
          ]
        },
        {
          "output_type": "display_data",
          "data": {
            "text/plain": [
              "<Figure size 800x400 with 1 Axes>"
            ],
            "image/png": "[encoded data removed]"
          },
          "metadata": {}
        },
        {
          "output_type": "stream",
          "name": "stdout",
          "text": [
            "0.42364457559625074 for 2 clusters\n"
          ]
        },
        {
          "output_type": "execute_result",
          "data": {
            "text/plain": [
              "[0.42364457559625074,\n",
              " 0.3187755079997931,\n",
              " 0.34089035600743633,\n",
              " 0.304591667724218,\n",
              " 0.264926372216267,\n",
              " 0.24008130075094544,\n",
              " 0.25524330961947295,\n",
              " 0.24636011542190747,\n",
              " 0.23392421454263798]"
            ]
          },
          "metadata": {},
          "execution_count": 31
        }
      ]
    },
    {
      "cell_type": "code",
      "source": [
        "#for hierarchical clustering technique with affinity='l1'and linkage='average'\n",
        "\n",
        "nc=range(2,11)\n",
        "l=[]\n",
        "for i in nc:\n",
        "  model=AgglomerativeClustering(n_clusters=i,affinity='l1',linkage='average')\n",
        "  l.append(silhouette_score(scaled_features,model.fit_predict(scaled_features)))\n",
        "\n",
        "\n",
        "#plotting\n",
        "plt.figure(figsize=(8,4))\n",
        "plt.style.use('seaborn-darkgrid')\n",
        "plt.scatter(nc,l,s=50,color='black')\n",
        "plt.plot(nc,l,color='red',linestyle='-.')\n",
        "plt.xticks(range(1,11))\n",
        "plt.show();\n",
        "\n",
        "\n",
        "\n",
        "\n",
        "# printing highest Silhouette score for the respective technique\n",
        "print(max(l),'for',nc[l.index(max(l))],\"clusters\")\n",
        "\n",
        "l"
      ],
      "metadata": {
        "id": "9doBKecPr8GY",
        "colab": {
          "base_uri": "https://localhost:8080/",
          "height": 904
        },
        "outputId": "785eab7d-0623-4d3f-d6b8-651895bb4926"
      },
      "execution_count": 32,
      "outputs": [
        {
          "output_type": "stream",
          "name": "stderr",
          "text": [
            "/usr/local/lib/python3.10/dist-packages/sklearn/cluster/_agglomerative.py:983: FutureWarning: Attribute `affinity` was deprecated in version 1.2 and will be removed in 1.4. Use `metric` instead\n",
            "  warnings.warn(\n",
            "/usr/local/lib/python3.10/dist-packages/sklearn/cluster/_agglomerative.py:983: FutureWarning: Attribute `affinity` was deprecated in version 1.2 and will be removed in 1.4. Use `metric` instead\n",
            "  warnings.warn(\n",
            "/usr/local/lib/python3.10/dist-packages/sklearn/cluster/_agglomerative.py:983: FutureWarning: Attribute `affinity` was deprecated in version 1.2 and will be removed in 1.4. Use `metric` instead\n",
            "  warnings.warn(\n",
            "/usr/local/lib/python3.10/dist-packages/sklearn/cluster/_agglomerative.py:983: FutureWarning: Attribute `affinity` was deprecated in version 1.2 and will be removed in 1.4. Use `metric` instead\n",
            "  warnings.warn(\n",
            "/usr/local/lib/python3.10/dist-packages/sklearn/cluster/_agglomerative.py:983: FutureWarning: Attribute `affinity` was deprecated in version 1.2 and will be removed in 1.4. Use `metric` instead\n",
            "  warnings.warn(\n",
            "/usr/local/lib/python3.10/dist-packages/sklearn/cluster/_agglomerative.py:983: FutureWarning: Attribute `affinity` was deprecated in version 1.2 and will be removed in 1.4. Use `metric` instead\n",
            "  warnings.warn(\n",
            "/usr/local/lib/python3.10/dist-packages/sklearn/cluster/_agglomerative.py:983: FutureWarning: Attribute `affinity` was deprecated in version 1.2 and will be removed in 1.4. Use `metric` instead\n",
            "  warnings.warn(\n",
            "/usr/local/lib/python3.10/dist-packages/sklearn/cluster/_agglomerative.py:983: FutureWarning: Attribute `affinity` was deprecated in version 1.2 and will be removed in 1.4. Use `metric` instead\n",
            "  warnings.warn(\n",
            "/usr/local/lib/python3.10/dist-packages/sklearn/cluster/_agglomerative.py:983: FutureWarning: Attribute `affinity` was deprecated in version 1.2 and will be removed in 1.4. Use `metric` instead\n",
            "  warnings.warn(\n",
            "<ipython-input-32-e15c39b020fc>:12: MatplotlibDeprecationWarning: The seaborn styles shipped by Matplotlib are deprecated since 3.6, as they no longer correspond to the styles shipped by seaborn. However, they will remain available as 'seaborn-v0_8-<style>'. Alternatively, directly use the seaborn API instead.\n",
            "  plt.style.use('seaborn-darkgrid')\n"
          ]
        },
        {
          "output_type": "display_data",
          "data": {
            "text/plain": [
              "<Figure size 800x400 with 1 Axes>"
            ],
            "image/png": "[encoded data removed]"
          },
          "metadata": {}
        },
        {
          "output_type": "stream",
          "name": "stdout",
          "text": [
            "0.42150616000142505 for 2 clusters\n"
          ]
        },
        {
          "output_type": "execute_result",
          "data": {
            "text/plain": [
              "[0.42150616000142505,\n",
              " 0.38059562824644055,\n",
              " 0.3704827187736578,\n",
              " 0.31987844617667754,\n",
              " 0.30052255992323545,\n",
              " 0.2800727866038942,\n",
              " 0.2740761050924829,\n",
              " 0.2525035359621213,\n",
              " 0.24474886347671315]"
            ]
          },
          "metadata": {},
          "execution_count": 32
        }
      ]
    },
    {
      "cell_type": "code",
      "source": [
        "#for hierarchical clustering technique with affinity='l1'and linkage='complete'\n",
        "\n",
        "nc=range(2,11)\n",
        "l=[]\n",
        "for i in nc:\n",
        "  model=AgglomerativeClustering(n_clusters=i,affinity='l1',linkage='complete')\n",
        "  l.append(silhouette_score(scaled_features,model.fit_predict(scaled_features)))\n",
        "\n",
        "\n",
        "#plotting\n",
        "plt.figure(figsize=(8,4))\n",
        "plt.style.use('seaborn-darkgrid')\n",
        "plt.scatter(nc,l,s=50,color='black')\n",
        "plt.plot(nc,l,color='red',linestyle='-.')\n",
        "plt.xticks(range(1,11))\n",
        "plt.show();\n",
        "\n",
        "\n",
        "\n",
        "\n",
        "# printing highest Silhouette score for the respective technique\n",
        "print(max(l),'for',nc[l.index(max(l))],\"clusters\")\n",
        "\n",
        "l"
      ],
      "metadata": {
        "colab": {
          "base_uri": "https://localhost:8080/",
          "height": 904
        },
        "id": "Xt3mthZXTiaL",
        "outputId": "28f606aa-62b7-4324-a116-3d9ef6b3bc71"
      },
      "execution_count": 33,
      "outputs": [
        {
          "output_type": "stream",
          "name": "stderr",
          "text": [
            "/usr/local/lib/python3.10/dist-packages/sklearn/cluster/_agglomerative.py:983: FutureWarning: Attribute `affinity` was deprecated in version 1.2 and will be removed in 1.4. Use `metric` instead\n",
            "  warnings.warn(\n",
            "/usr/local/lib/python3.10/dist-packages/sklearn/cluster/_agglomerative.py:983: FutureWarning: Attribute `affinity` was deprecated in version 1.2 and will be removed in 1.4. Use `metric` instead\n",
            "  warnings.warn(\n",
            "/usr/local/lib/python3.10/dist-packages/sklearn/cluster/_agglomerative.py:983: FutureWarning: Attribute `affinity` was deprecated in version 1.2 and will be removed in 1.4. Use `metric` instead\n",
            "  warnings.warn(\n",
            "/usr/local/lib/python3.10/dist-packages/sklearn/cluster/_agglomerative.py:983: FutureWarning: Attribute `affinity` was deprecated in version 1.2 and will be removed in 1.4. Use `metric` instead\n",
            "  warnings.warn(\n",
            "/usr/local/lib/python3.10/dist-packages/sklearn/cluster/_agglomerative.py:983: FutureWarning: Attribute `affinity` was deprecated in version 1.2 and will be removed in 1.4. Use `metric` instead\n",
            "  warnings.warn(\n",
            "/usr/local/lib/python3.10/dist-packages/sklearn/cluster/_agglomerative.py:983: FutureWarning: Attribute `affinity` was deprecated in version 1.2 and will be removed in 1.4. Use `metric` instead\n",
            "  warnings.warn(\n",
            "/usr/local/lib/python3.10/dist-packages/sklearn/cluster/_agglomerative.py:983: FutureWarning: Attribute `affinity` was deprecated in version 1.2 and will be removed in 1.4. Use `metric` instead\n",
            "  warnings.warn(\n",
            "/usr/local/lib/python3.10/dist-packages/sklearn/cluster/_agglomerative.py:983: FutureWarning: Attribute `affinity` was deprecated in version 1.2 and will be removed in 1.4. Use `metric` instead\n",
            "  warnings.warn(\n",
            "/usr/local/lib/python3.10/dist-packages/sklearn/cluster/_agglomerative.py:983: FutureWarning: Attribute `affinity` was deprecated in version 1.2 and will be removed in 1.4. Use `metric` instead\n",
            "  warnings.warn(\n",
            "<ipython-input-33-72e4c0f298c1>:12: MatplotlibDeprecationWarning: The seaborn styles shipped by Matplotlib are deprecated since 3.6, as they no longer correspond to the styles shipped by seaborn. However, they will remain available as 'seaborn-v0_8-<style>'. Alternatively, directly use the seaborn API instead.\n",
            "  plt.style.use('seaborn-darkgrid')\n"
          ]
        },
        {
          "output_type": "display_data",
          "data": {
            "text/plain": [
              "<Figure size 800x400 with 1 Axes>"
            ],
            "image/png": "[encoded data removed]"
          },
          "metadata": {}
        },
        {
          "output_type": "stream",
          "name": "stdout",
          "text": [
            "0.42150616000142505 for 2 clusters\n"
          ]
        },
        {
          "output_type": "execute_result",
          "data": {
            "text/plain": [
              "[0.42150616000142505,\n",
              " 0.3174819581729578,\n",
              " 0.32468820461360415,\n",
              " 0.2856589857160643,\n",
              " 0.23060241591245334,\n",
              " 0.2237450913021125,\n",
              " 0.20996972769488906,\n",
              " 0.21558940186596345,\n",
              " 0.21765883871596808]"
            ]
          },
          "metadata": {},
          "execution_count": 33
        }
      ]
    },
    {
      "cell_type": "code",
      "source": [
        "#for hierarchical clustering technique with affinity='l2'and linkage='average'\n",
        "\n",
        "nc=range(2,11)\n",
        "l=[]\n",
        "for i in nc:\n",
        "  model=AgglomerativeClustering(n_clusters=i,affinity='l2',linkage='average')\n",
        "  l.append(silhouette_score(scaled_features,model.fit_predict(scaled_features)))\n",
        "\n",
        "\n",
        "#plotting\n",
        "plt.figure(figsize=(8,4))\n",
        "plt.style.use('seaborn-darkgrid')\n",
        "plt.scatter(nc,l,s=50,color='black')\n",
        "plt.plot(nc,l,color='red',linestyle='-.')\n",
        "plt.xticks(range(1,11))\n",
        "plt.show();\n",
        "\n",
        "\n",
        "\n",
        "\n",
        "# printing highest Silhouette score for the respective technique\n",
        "print(max(l),'for',nc[l.index(max(l))],\"clusters\")\n",
        "\n",
        "l"
      ],
      "metadata": {
        "colab": {
          "base_uri": "https://localhost:8080/",
          "height": 904
        },
        "id": "3ejXGB1sTifi",
        "outputId": "fcbb6715-dc30-4896-b17c-013b0b890b57"
      },
      "execution_count": 34,
      "outputs": [
        {
          "output_type": "stream",
          "name": "stderr",
          "text": [
            "/usr/local/lib/python3.10/dist-packages/sklearn/cluster/_agglomerative.py:983: FutureWarning: Attribute `affinity` was deprecated in version 1.2 and will be removed in 1.4. Use `metric` instead\n",
            "  warnings.warn(\n",
            "/usr/local/lib/python3.10/dist-packages/sklearn/cluster/_agglomerative.py:983: FutureWarning: Attribute `affinity` was deprecated in version 1.2 and will be removed in 1.4. Use `metric` instead\n",
            "  warnings.warn(\n",
            "/usr/local/lib/python3.10/dist-packages/sklearn/cluster/_agglomerative.py:983: FutureWarning: Attribute `affinity` was deprecated in version 1.2 and will be removed in 1.4. Use `metric` instead\n",
            "  warnings.warn(\n",
            "/usr/local/lib/python3.10/dist-packages/sklearn/cluster/_agglomerative.py:983: FutureWarning: Attribute `affinity` was deprecated in version 1.2 and will be removed in 1.4. Use `metric` instead\n",
            "  warnings.warn(\n",
            "/usr/local/lib/python3.10/dist-packages/sklearn/cluster/_agglomerative.py:983: FutureWarning: Attribute `affinity` was deprecated in version 1.2 and will be removed in 1.4. Use `metric` instead\n",
            "  warnings.warn(\n",
            "/usr/local/lib/python3.10/dist-packages/sklearn/cluster/_agglomerative.py:983: FutureWarning: Attribute `affinity` was deprecated in version 1.2 and will be removed in 1.4. Use `metric` instead\n",
            "  warnings.warn(\n",
            "/usr/local/lib/python3.10/dist-packages/sklearn/cluster/_agglomerative.py:983: FutureWarning: Attribute `affinity` was deprecated in version 1.2 and will be removed in 1.4. Use `metric` instead\n",
            "  warnings.warn(\n",
            "/usr/local/lib/python3.10/dist-packages/sklearn/cluster/_agglomerative.py:983: FutureWarning: Attribute `affinity` was deprecated in version 1.2 and will be removed in 1.4. Use `metric` instead\n",
            "  warnings.warn(\n",
            "/usr/local/lib/python3.10/dist-packages/sklearn/cluster/_agglomerative.py:983: FutureWarning: Attribute `affinity` was deprecated in version 1.2 and will be removed in 1.4. Use `metric` instead\n",
            "  warnings.warn(\n",
            "<ipython-input-34-c3dbb5006d5a>:12: MatplotlibDeprecationWarning: The seaborn styles shipped by Matplotlib are deprecated since 3.6, as they no longer correspond to the styles shipped by seaborn. However, they will remain available as 'seaborn-v0_8-<style>'. Alternatively, directly use the seaborn API instead.\n",
            "  plt.style.use('seaborn-darkgrid')\n"
          ]
        },
        {
          "output_type": "display_data",
          "data": {
            "text/plain": [
              "<Figure size 800x400 with 1 Axes>"
            ],
            "image/png": "[encoded data removed]"
          },
          "metadata": {}
        },
        {
          "output_type": "stream",
          "name": "stdout",
          "text": [
            "0.42364457559625074 for 2 clusters\n"
          ]
        },
        {
          "output_type": "execute_result",
          "data": {
            "text/plain": [
              "[0.42364457559625074,\n",
              " 0.35149572430421583,\n",
              " 0.36992391140277175,\n",
              " 0.3257478134255528,\n",
              " 0.2815096427769605,\n",
              " 0.24382999528072172,\n",
              " 0.2506774565216013,\n",
              " 0.2169454704716504,\n",
              " 0.21877737263827413]"
            ]
          },
          "metadata": {},
          "execution_count": 34
        }
      ]
    },
    {
      "cell_type": "code",
      "source": [
        "#for hierarchical clustering technique with affinity='l2'and linkage='complete'\n",
        "\n",
        "nc=range(2,11)\n",
        "l=[]\n",
        "for i in nc:\n",
        "  model=AgglomerativeClustering(n_clusters=i,affinity='l2',linkage='complete')\n",
        "  l.append(silhouette_score(scaled_features,model.fit_predict(scaled_features)))\n",
        "\n",
        "\n",
        "#plotting\n",
        "plt.figure(figsize=(8,4))\n",
        "plt.style.use('seaborn-darkgrid')\n",
        "plt.scatter(nc,l,s=50,color='black')\n",
        "plt.plot(nc,l,color='red',linestyle='-.')\n",
        "plt.xticks(range(1,11))\n",
        "plt.show();\n",
        "\n",
        "\n",
        "\n",
        "\n",
        "# printing highest Silhouette score for the respective technique\n",
        "print(max(l),'for',nc[l.index(max(l))],\"clusters\")\n",
        "\n",
        "l"
      ],
      "metadata": {
        "colab": {
          "base_uri": "https://localhost:8080/",
          "height": 904
        },
        "id": "FDQFHFHlTilO",
        "outputId": "225ebb5e-8813-45af-9413-852991c9cc96"
      },
      "execution_count": 35,
      "outputs": [
        {
          "output_type": "stream",
          "name": "stderr",
          "text": [
            "/usr/local/lib/python3.10/dist-packages/sklearn/cluster/_agglomerative.py:983: FutureWarning: Attribute `affinity` was deprecated in version 1.2 and will be removed in 1.4. Use `metric` instead\n",
            "  warnings.warn(\n",
            "/usr/local/lib/python3.10/dist-packages/sklearn/cluster/_agglomerative.py:983: FutureWarning: Attribute `affinity` was deprecated in version 1.2 and will be removed in 1.4. Use `metric` instead\n",
            "  warnings.warn(\n",
            "/usr/local/lib/python3.10/dist-packages/sklearn/cluster/_agglomerative.py:983: FutureWarning: Attribute `affinity` was deprecated in version 1.2 and will be removed in 1.4. Use `metric` instead\n",
            "  warnings.warn(\n",
            "/usr/local/lib/python3.10/dist-packages/sklearn/cluster/_agglomerative.py:983: FutureWarning: Attribute `affinity` was deprecated in version 1.2 and will be removed in 1.4. Use `metric` instead\n",
            "  warnings.warn(\n",
            "/usr/local/lib/python3.10/dist-packages/sklearn/cluster/_agglomerative.py:983: FutureWarning: Attribute `affinity` was deprecated in version 1.2 and will be removed in 1.4. Use `metric` instead\n",
            "  warnings.warn(\n",
            "/usr/local/lib/python3.10/dist-packages/sklearn/cluster/_agglomerative.py:983: FutureWarning: Attribute `affinity` was deprecated in version 1.2 and will be removed in 1.4. Use `metric` instead\n",
            "  warnings.warn(\n",
            "/usr/local/lib/python3.10/dist-packages/sklearn/cluster/_agglomerative.py:983: FutureWarning: Attribute `affinity` was deprecated in version 1.2 and will be removed in 1.4. Use `metric` instead\n",
            "  warnings.warn(\n",
            "/usr/local/lib/python3.10/dist-packages/sklearn/cluster/_agglomerative.py:983: FutureWarning: Attribute `affinity` was deprecated in version 1.2 and will be removed in 1.4. Use `metric` instead\n",
            "  warnings.warn(\n",
            "/usr/local/lib/python3.10/dist-packages/sklearn/cluster/_agglomerative.py:983: FutureWarning: Attribute `affinity` was deprecated in version 1.2 and will be removed in 1.4. Use `metric` instead\n",
            "  warnings.warn(\n",
            "<ipython-input-35-b60af986a86f>:12: MatplotlibDeprecationWarning: The seaborn styles shipped by Matplotlib are deprecated since 3.6, as they no longer correspond to the styles shipped by seaborn. However, they will remain available as 'seaborn-v0_8-<style>'. Alternatively, directly use the seaborn API instead.\n",
            "  plt.style.use('seaborn-darkgrid')\n"
          ]
        },
        {
          "output_type": "display_data",
          "data": {
            "text/plain": [
              "<Figure size 800x400 with 1 Axes>"
            ],
            "image/png": "[encoded data removed]"
          },
          "metadata": {}
        },
        {
          "output_type": "stream",
          "name": "stdout",
          "text": [
            "0.42364457559625074 for 2 clusters\n"
          ]
        },
        {
          "output_type": "execute_result",
          "data": {
            "text/plain": [
              "[0.42364457559625074,\n",
              " 0.30877213909512063,\n",
              " 0.3060729442426308,\n",
              " 0.3056360903608855,\n",
              " 0.2728435659779423,\n",
              " 0.27387642168206544,\n",
              " 0.24780604916967508,\n",
              " 0.2400551166172384,\n",
              " 0.20643912850693227]"
            ]
          },
          "metadata": {},
          "execution_count": 35
        }
      ]
    },
    {
      "cell_type": "markdown",
      "source": [
        " **Silhouette score** :Silhouette Coefficient or silhouette score is a metric used to calculate the goodness of a clustering technique. Its value ranges from -1 to 1.Silhouette score is higher the better.<br>\n",
        "\n",
        "\n",
        "---\n",
        "\n",
        "\n",
        "We calculated silhouette score for different clustering techniques<br>\n",
        "\n",
        "Representing highest Silhouette score for each technique:<br>\n",
        "1. For KMean clustering technique:\n",
        "> 0.42364457559625074 for 2 clusters\n",
        "\n",
        "2. For hierarchical clustering technique with affinity='l1'and linkage='average'\n",
        "> 0.42150616000142505 for 2 clusters\n",
        "\n",
        "3. For hierarchical clustering technique with affinity='l1'and linkage='complete'\n",
        "> 0.42150616000142505 for 2 clusters\n",
        "\n",
        "4. For hierarchical clustering technique with affinity='l2'and linkage='average'\n",
        "> 0.42364457559625074 for 2 clusters\n",
        "\n",
        "5. For hierarchical clustering technique with affinity='l2'and linkage='complete'\n",
        "> 0.42364457559625074 for 2 clusters\n",
        "\n",
        "\n",
        "\n",
        "\n",
        "\n",
        "*   We will avoid using 'single' as  linkage because it mainly focus on the structure\n"
      ],
      "metadata": {
        "id": "czn6YvdJUZRS"
      }
    },
    {
      "cell_type": "markdown",
      "source": [
        "\n",
        "\n",
        "**We will go ahed with 2 clusters**"
      ],
      "metadata": {
        "id": "_yJFXXI0V8oB"
      }
    },
    {
      "cell_type": "markdown",
      "source": [
        "\n",
        "\n",
        "---\n",
        "\n",
        "\n",
        "\n",
        "---\n",
        "\n",
        "\n",
        "#Clustering on Airlines dataset"
      ],
      "metadata": {
        "id": "2g8lHl9O3Ql8"
      }
    },
    {
      "cell_type": "markdown",
      "source": [
        "Problem 2:<br>\n",
        "Perform clustering (hierarchical,K means clustering and DBSCAN) for the airlines data to obtain optimum number of clusters.\n",
        "Draw the inferences from the clusters obtained.\n",
        "\n",
        "Data Description:\n",
        "\n",
        "> The file EastWestAirlines contains information on passengers who belong to an airline’s frequent flier program. For each passenger the data include information on their mileage history and on different ways they accrued or spent miles in the last year. The goal is to try to identify clusters of passengers that have similar characteristics for the purpose of targeting different segments for different types of mileage offers\n",
        "\n",
        "\n",
        "\n",
        "\n",
        "> ID --Unique ID\n",
        "\n",
        "> Balance--Number of miles eligible for award travel\n",
        "\n",
        "> Qual_mile--Number of miles counted as qualifying for Topflight status\n",
        "\n",
        "> cc1_miles -- Number of miles earned with freq. flyer credit card in the past 12 months:\n",
        "\n",
        "> cc2_miles -- Number of miles earned with Rewards credit card\n",
        "in the past 12 months:\n",
        "\n",
        "> cc3_miles -- Number of miles earned with Small Business credit card in the past 12 months:\n",
        "\n",
        "> 1 = under 5,000 <br>\n",
        " 2 = 5,000 - 10,000 <br>\n",
        " 3 = 10,001 - 25,000<br>\n",
        " 4 = 25,001 - 50,000<br>\n",
        " 5 = over 50,000\n",
        "\n",
        "> Bonus_miles--Number of miles earned from non-flight bonus transactions in the past 12 months\n",
        "\n",
        "> Bonus_trans--Number of non-flight bonus transactions in the past 12 months\n",
        "\n",
        "> Flight_miles_12mo--Number of flight miles in the past 12 months\n",
        "\n",
        "> Flight_trans_12--Number of flight transactions in the past 12 months\n",
        "\n",
        "> Days_since_enrolled--Number of days since enrolled in flier program\n",
        "\n",
        "> Award--whether that person had award flight (free flight) or not\n",
        "\n",
        "\n"
      ],
      "metadata": {
        "id": "2KL7hzATxSlk"
      }
    },
    {
      "cell_type": "code",
      "source": [
        "#Importing data\n",
        "#uploading excel 2nd sheet\n",
        "\n",
        "airlines=pd.read_excel('EastWestAirlines.xlsx','data')\n",
        "airlines"
      ],
      "metadata": {
        "colab": {
          "base_uri": "https://localhost:8080/",
          "height": 443
        },
        "id": "cC-8zU982MH_",
        "outputId": "b5acedb6-e7cb-4b6c-8ce9-790ef0a114be"
      },
      "execution_count": 36,
      "outputs": [
        {
          "output_type": "execute_result",
          "data": {
            "text/plain": [
              "       ID#  Balance  Qual_miles  cc1_miles  cc2_miles  cc3_miles  Bonus_miles  \\\n",
              "0        1    28143           0          1          1          1          174   \n",
              "1        2    19244           0          1          1          1          215   \n",
              "2        3    41354           0          1          1          1         4123   \n",
              "3        4    14776           0          1          1          1          500   \n",
              "4        5    97752           0          4          1          1        43300   \n",
              "...    ...      ...         ...        ...        ...        ...          ...   \n",
              "3994  4017    18476           0          1          1          1         8525   \n",
              "3995  4018    64385           0          1          1          1          981   \n",
              "3996  4019    73597           0          3          1          1        25447   \n",
              "3997  4020    54899           0          1          1          1          500   \n",
              "3998  4021     3016           0          1          1          1            0   \n",
              "\n",
              "      Bonus_trans  Flight_miles_12mo  Flight_trans_12  Days_since_enroll  \\\n",
              "0               1                  0                0               7000   \n",
              "1               2                  0                0               6968   \n",
              "2               4                  0                0               7034   \n",
              "3               1                  0                0               6952   \n",
              "4              26               2077                4               6935   \n",
              "...           ...                ...              ...                ...   \n",
              "3994            4                200                1               1403   \n",
              "3995            5                  0                0               1395   \n",
              "3996            8                  0                0               1402   \n",
              "3997            1                500                1               1401   \n",
              "3998            0                  0                0               1398   \n",
              "\n",
              "      Award?  \n",
              "0          0  \n",
              "1          0  \n",
              "2          0  \n",
              "3          0  \n",
              "4          1  \n",
              "...      ...  \n",
              "3994       1  \n",
              "3995       1  \n",
              "3996       1  \n",
              "3997       0  \n",
              "3998       0  \n",
              "\n",
              "[3999 rows x 12 columns]"
            ],
            "text/html": [
              "\n",
              "  <div id=\"df-a2f2ad2c-0816-4157-b67a-bbe415d7ad16\" class=\"colab-df-container\">\n",
              "    <div>\n",
              "<style scoped>\n",
              "    .dataframe tbody tr th:only-of-type {\n",
              "        vertical-align: middle;\n",
              "    }\n",
              "\n",
              "    .dataframe tbody tr th {\n",
              "        vertical-align: top;\n",
              "    }\n",
              "\n",
              "    .dataframe thead th {\n",
              "        text-align: right;\n",
              "    }\n",
              "</style>\n",
              "<table border=\"1\" class=\"dataframe\">\n",
              "  <thead>\n",
              "    <tr style=\"text-align: right;\">\n",
              "      <th></th>\n",
              "      <th>ID#</th>\n",
              "      <th>Balance</th>\n",
              "      <th>Qual_miles</th>\n",
              "      <th>cc1_miles</th>\n",
              "      <th>cc2_miles</th>\n",
              "      <th>cc3_miles</th>\n",
              "      <th>Bonus_miles</th>\n",
              "      <th>Bonus_trans</th>\n",
              "      <th>Flight_miles_12mo</th>\n",
              "      <th>Flight_trans_12</th>\n",
              "      <th>Days_since_enroll</th>\n",
              "      <th>Award?</th>\n",
              "    </tr>\n",
              "  </thead>\n",
              "  <tbody>\n",
              "    <tr>\n",
              "      <th>0</th>\n",
              "      <td>1</td>\n",
              "      <td>28143</td>\n",
              "      <td>0</td>\n",
              "      <td>1</td>\n",
              "      <td>1</td>\n",
              "      <td>1</td>\n",
              "      <td>174</td>\n",
              "      <td>1</td>\n",
              "      <td>0</td>\n",
              "      <td>0</td>\n",
              "      <td>7000</td>\n",
              "      <td>0</td>\n",
              "    </tr>\n",
              "    <tr>\n",
              "      <th>1</th>\n",
              "      <td>2</td>\n",
              "      <td>19244</td>\n",
              "      <td>0</td>\n",
              "      <td>1</td>\n",
              "      <td>1</td>\n",
              "      <td>1</td>\n",
              "      <td>215</td>\n",
              "      <td>2</td>\n",
              "      <td>0</td>\n",
              "      <td>0</td>\n",
              "      <td>6968</td>\n",
              "      <td>0</td>\n",
              "    </tr>\n",
              "    <tr>\n",
              "      <th>2</th>\n",
              "      <td>3</td>\n",
              "      <td>41354</td>\n",
              "      <td>0</td>\n",
              "      <td>1</td>\n",
              "      <td>1</td>\n",
              "      <td>1</td>\n",
              "      <td>4123</td>\n",
              "      <td>4</td>\n",
              "      <td>0</td>\n",
              "      <td>0</td>\n",
              "      <td>7034</td>\n",
              "      <td>0</td>\n",
              "    </tr>\n",
              "    <tr>\n",
              "      <th>3</th>\n",
              "      <td>4</td>\n",
              "      <td>14776</td>\n",
              "      <td>0</td>\n",
              "      <td>1</td>\n",
              "      <td>1</td>\n",
              "      <td>1</td>\n",
              "      <td>500</td>\n",
              "      <td>1</td>\n",
              "      <td>0</td>\n",
              "      <td>0</td>\n",
              "      <td>6952</td>\n",
              "      <td>0</td>\n",
              "    </tr>\n",
              "    <tr>\n",
              "      <th>4</th>\n",
              "      <td>5</td>\n",
              "      <td>97752</td>\n",
              "      <td>0</td>\n",
              "      <td>4</td>\n",
              "      <td>1</td>\n",
              "      <td>1</td>\n",
              "      <td>43300</td>\n",
              "      <td>26</td>\n",
              "      <td>2077</td>\n",
              "      <td>4</td>\n",
              "      <td>6935</td>\n",
              "      <td>1</td>\n",
              "    </tr>\n",
              "    <tr>\n",
              "      <th>...</th>\n",
              "      <td>...</td>\n",
              "      <td>...</td>\n",
              "      <td>...</td>\n",
              "      <td>...</td>\n",
              "      <td>...</td>\n",
              "      <td>...</td>\n",
              "      <td>...</td>\n",
              "      <td>...</td>\n",
              "      <td>...</td>\n",
              "      <td>...</td>\n",
              "      <td>...</td>\n",
              "      <td>...</td>\n",
              "    </tr>\n",
              "    <tr>\n",
              "      <th>3994</th>\n",
              "      <td>4017</td>\n",
              "      <td>18476</td>\n",
              "      <td>0</td>\n",
              "      <td>1</td>\n",
              "      <td>1</td>\n",
              "      <td>1</td>\n",
              "      <td>8525</td>\n",
              "      <td>4</td>\n",
              "      <td>200</td>\n",
              "      <td>1</td>\n",
              "      <td>1403</td>\n",
              "      <td>1</td>\n",
              "    </tr>\n",
              "    <tr>\n",
              "      <th>3995</th>\n",
              "      <td>4018</td>\n",
              "      <td>64385</td>\n",
              "      <td>0</td>\n",
              "      <td>1</td>\n",
              "      <td>1</td>\n",
              "      <td>1</td>\n",
              "      <td>981</td>\n",
              "      <td>5</td>\n",
              "      <td>0</td>\n",
              "      <td>0</td>\n",
              "      <td>1395</td>\n",
              "      <td>1</td>\n",
              "    </tr>\n",
              "    <tr>\n",
              "      <th>3996</th>\n",
              "      <td>4019</td>\n",
              "      <td>73597</td>\n",
              "      <td>0</td>\n",
              "      <td>3</td>\n",
              "      <td>1</td>\n",
              "      <td>1</td>\n",
              "      <td>25447</td>\n",
              "      <td>8</td>\n",
              "      <td>0</td>\n",
              "      <td>0</td>\n",
              "      <td>1402</td>\n",
              "      <td>1</td>\n",
              "    </tr>\n",
              "    <tr>\n",
              "      <th>3997</th>\n",
              "      <td>4020</td>\n",
              "      <td>54899</td>\n",
              "      <td>0</td>\n",
              "      <td>1</td>\n",
              "      <td>1</td>\n",
              "      <td>1</td>\n",
              "      <td>500</td>\n",
              "      <td>1</td>\n",
              "      <td>500</td>\n",
              "      <td>1</td>\n",
              "      <td>1401</td>\n",
              "      <td>0</td>\n",
              "    </tr>\n",
              "    <tr>\n",
              "      <th>3998</th>\n",
              "      <td>4021</td>\n",
              "      <td>3016</td>\n",
              "      <td>0</td>\n",
              "      <td>1</td>\n",
              "      <td>1</td>\n",
              "      <td>1</td>\n",
              "      <td>0</td>\n",
              "      <td>0</td>\n",
              "      <td>0</td>\n",
              "      <td>0</td>\n",
              "      <td>1398</td>\n",
              "      <td>0</td>\n",
              "    </tr>\n",
              "  </tbody>\n",
              "</table>\n",
              "<p>3999 rows × 12 columns</p>\n",
              "</div>\n",
              "    <div class=\"colab-df-buttons\">\n",
              "\n",
              "  <div class=\"colab-df-container\">\n",
              "    <button class=\"colab-df-convert\" onclick=\"convertToInteractive('df-a2f2ad2c-0816-4157-b67a-bbe415d7ad16')\"\n",
              "            title=\"Convert this dataframe to an interactive table.\"\n",
              "            style=\"display:none;\">\n",
              "\n",
              "  <svg xmlns=\"http://www.w3.org/2000/svg\" height=\"24px\" viewBox=\"0 -960 960 960\">\n",
              "    <path d=\"M120-120v-720h720v720H120Zm60-500h600v-160H180v160Zm220 220h160v-160H400v160Zm0 220h160v-160H400v160ZM180-400h160v-160H180v160Zm440 0h160v-160H620v160ZM180-180h160v-160H180v160Zm440 0h160v-160H620v160Z\"/>\n",
              "  </svg>\n",
              "    </button>\n",
              "\n",
              "  <style>\n",
              "    .colab-df-container {\n",
              "      display:flex;\n",
              "      gap: 12px;\n",
              "    }\n",
              "\n",
              "    .colab-df-convert {\n",
              "      background-color: #E8F0FE;\n",
              "      border: none;\n",
              "      border-radius: 50%;\n",
              "      cursor: pointer;\n",
              "      display: none;\n",
              "      fill: #1967D2;\n",
              "      height: 32px;\n",
              "      padding: 0 0 0 0;\n",
              "      width: 32px;\n",
              "    }\n",
              "\n",
              "    .colab-df-convert:hover {\n",
              "      background-color: #E2EBFA;\n",
              "      box-shadow: 0px 1px 2px rgba(60, 64, 67, 0.3), 0px 1px 3px 1px rgba(60, 64, 67, 0.15);\n",
              "      fill: #174EA6;\n",
              "    }\n",
              "\n",
              "    .colab-df-buttons div {\n",
              "      margin-bottom: 4px;\n",
              "    }\n",
              "\n",
              "    [theme=dark] .colab-df-convert {\n",
              "      background-color: #3B4455;\n",
              "      fill: #D2E3FC;\n",
              "    }\n",
              "\n",
              "    [theme=dark] .colab-df-convert:hover {\n",
              "      background-color: #434B5C;\n",
              "      box-shadow: 0px 1px 3px 1px rgba(0, 0, 0, 0.15);\n",
              "      filter: drop-shadow(0px 1px 2px rgba(0, 0, 0, 0.3));\n",
              "      fill: #FFFFFF;\n",
              "    }\n",
              "  </style>\n",
              "\n",
              "    <script>\n",
              "      const buttonEl =\n",
              "        document.querySelector('#df-a2f2ad2c-0816-4157-b67a-bbe415d7ad16 button.colab-df-convert');\n",
              "      buttonEl.style.display =\n",
              "        google.colab.kernel.accessAllowed ? 'block' : 'none';\n",
              "\n",
              "      async function convertToInteractive(key) {\n",
              "        const element = document.querySelector('#df-a2f2ad2c-0816-4157-b67a-bbe415d7ad16');\n",
              "        const dataTable =\n",
              "          await google.colab.kernel.invokeFunction('convertToInteractive',\n",
              "                                                    [key], {});\n",
              "        if (!dataTable) return;\n",
              "\n",
              "        const docLinkHtml = 'Like what you see? Visit the ' +\n",
              "          '<a target=\"_blank\" href=https://colab.research.google.com/notebooks/data_table.ipynb>data table notebook</a>'\n",
              "          + ' to learn more about interactive tables.';\n",
              "        element.innerHTML = '';\n",
              "        dataTable['output_type'] = 'display_data';\n",
              "        await google.colab.output.renderOutput(dataTable, element);\n",
              "        const docLink = document.createElement('div');\n",
              "        docLink.innerHTML = docLinkHtml;\n",
              "        element.appendChild(docLink);\n",
              "      }\n",
              "    </script>\n",
              "  </div>\n",
              "\n",
              "\n",
              "<div id=\"df-d977db9c-d2c2-4e51-b98b-cb6b86fc2caf\">\n",
              "  <button class=\"colab-df-quickchart\" onclick=\"quickchart('df-d977db9c-d2c2-4e51-b98b-cb6b86fc2caf')\"\n",
              "            title=\"Suggest charts\"\n",
              "            style=\"display:none;\">\n",
              "\n",
              "<svg xmlns=\"http://www.w3.org/2000/svg\" height=\"24px\"viewBox=\"0 0 24 24\"\n",
              "     width=\"24px\">\n",
              "    <g>\n",
              "        <path d=\"M19 3H5c-1.1 0-2 .9-2 2v14c0 1.1.9 2 2 2h14c1.1 0 2-.9 2-2V5c0-1.1-.9-2-2-2zM9 17H7v-7h2v7zm4 0h-2V7h2v10zm4 0h-2v-4h2v4z\"/>\n",
              "    </g>\n",
              "</svg>\n",
              "  </button>\n",
              "\n",
              "<style>\n",
              "  .colab-df-quickchart {\n",
              "      --bg-color: #E8F0FE;\n",
              "      --fill-color: #1967D2;\n",
              "      --hover-bg-color: #E2EBFA;\n",
              "      --hover-fill-color: #174EA6;\n",
              "      --disabled-fill-color: #AAA;\n",
              "      --disabled-bg-color: #DDD;\n",
              "  }\n",
              "\n",
              "  [theme=dark] .colab-df-quickchart {\n",
              "      --bg-color: #3B4455;\n",
              "      --fill-color: #D2E3FC;\n",
              "      --hover-bg-color: #434B5C;\n",
              "      --hover-fill-color: #FFFFFF;\n",
              "      --disabled-bg-color: #3B4455;\n",
              "      --disabled-fill-color: #666;\n",
              "  }\n",
              "\n",
              "  .colab-df-quickchart {\n",
              "    background-color: var(--bg-color);\n",
              "    border: none;\n",
              "    border-radius: 50%;\n",
              "    cursor: pointer;\n",
              "    display: none;\n",
              "    fill: var(--fill-color);\n",
              "    height: 32px;\n",
              "    padding: 0;\n",
              "    width: 32px;\n",
              "  }\n",
              "\n",
              "  .colab-df-quickchart:hover {\n",
              "    background-color: var(--hover-bg-color);\n",
              "    box-shadow: 0 1px 2px rgba(60, 64, 67, 0.3), 0 1px 3px 1px rgba(60, 64, 67, 0.15);\n",
              "    fill: var(--button-hover-fill-color);\n",
              "  }\n",
              "\n",
              "  .colab-df-quickchart-complete:disabled,\n",
              "  .colab-df-quickchart-complete:disabled:hover {\n",
              "    background-color: var(--disabled-bg-color);\n",
              "    fill: var(--disabled-fill-color);\n",
              "    box-shadow: none;\n",
              "  }\n",
              "\n",
              "  .colab-df-spinner {\n",
              "    border: 2px solid var(--fill-color);\n",
              "    border-color: transparent;\n",
              "    border-bottom-color: var(--fill-color);\n",
              "    animation:\n",
              "      spin 1s steps(1) infinite;\n",
              "  }\n",
              "\n",
              "  @keyframes spin {\n",
              "    0% {\n",
              "      border-color: transparent;\n",
              "      border-bottom-color: var(--fill-color);\n",
              "      border-left-color: var(--fill-color);\n",
              "    }\n",
              "    20% {\n",
              "      border-color: transparent;\n",
              "      border-left-color: var(--fill-color);\n",
              "      border-top-color: var(--fill-color);\n",
              "    }\n",
              "    30% {\n",
              "      border-color: transparent;\n",
              "      border-left-color: var(--fill-color);\n",
              "      border-top-color: var(--fill-color);\n",
              "      border-right-color: var(--fill-color);\n",
              "    }\n",
              "    40% {\n",
              "      border-color: transparent;\n",
              "      border-right-color: var(--fill-color);\n",
              "      border-top-color: var(--fill-color);\n",
              "    }\n",
              "    60% {\n",
              "      border-color: transparent;\n",
              "      border-right-color: var(--fill-color);\n",
              "    }\n",
              "    80% {\n",
              "      border-color: transparent;\n",
              "      border-right-color: var(--fill-color);\n",
              "      border-bottom-color: var(--fill-color);\n",
              "    }\n",
              "    90% {\n",
              "      border-color: transparent;\n",
              "      border-bottom-color: var(--fill-color);\n",
              "    }\n",
              "  }\n",
              "</style>\n",
              "\n",
              "  <script>\n",
              "    async function quickchart(key) {\n",
              "      const quickchartButtonEl =\n",
              "        document.querySelector('#' + key + ' button');\n",
              "      quickchartButtonEl.disabled = true;  // To prevent multiple clicks.\n",
              "      quickchartButtonEl.classList.add('colab-df-spinner');\n",
              "      try {\n",
              "        const charts = await google.colab.kernel.invokeFunction(\n",
              "            'suggestCharts', [key], {});\n",
              "      } catch (error) {\n",
              "        console.error('Error during call to suggestCharts:', error);\n",
              "      }\n",
              "      quickchartButtonEl.classList.remove('colab-df-spinner');\n",
              "      quickchartButtonEl.classList.add('colab-df-quickchart-complete');\n",
              "    }\n",
              "    (() => {\n",
              "      let quickchartButtonEl =\n",
              "        document.querySelector('#df-d977db9c-d2c2-4e51-b98b-cb6b86fc2caf button');\n",
              "      quickchartButtonEl.style.display =\n",
              "        google.colab.kernel.accessAllowed ? 'block' : 'none';\n",
              "    })();\n",
              "  </script>\n",
              "</div>\n",
              "\n",
              "  <div id=\"id_e35178a6-ddef-4418-bd0c-2ecd03f1fc7e\">\n",
              "    <style>\n",
              "      .colab-df-generate {\n",
              "        background-color: #E8F0FE;\n",
              "        border: none;\n",
              "        border-radius: 50%;\n",
              "        cursor: pointer;\n",
              "        display: none;\n",
              "        fill: #1967D2;\n",
              "        height: 32px;\n",
              "        padding: 0 0 0 0;\n",
              "        width: 32px;\n",
              "      }\n",
              "\n",
              "      .colab-df-generate:hover {\n",
              "        background-color: #E2EBFA;\n",
              "        box-shadow: 0px 1px 2px rgba(60, 64, 67, 0.3), 0px 1px 3px 1px rgba(60, 64, 67, 0.15);\n",
              "        fill: #174EA6;\n",
              "      }\n",
              "\n",
              "      [theme=dark] .colab-df-generate {\n",
              "        background-color: #3B4455;\n",
              "        fill: #D2E3FC;\n",
              "      }\n",
              "\n",
              "      [theme=dark] .colab-df-generate:hover {\n",
              "        background-color: #434B5C;\n",
              "        box-shadow: 0px 1px 3px 1px rgba(0, 0, 0, 0.15);\n",
              "        filter: drop-shadow(0px 1px 2px rgba(0, 0, 0, 0.3));\n",
              "        fill: #FFFFFF;\n",
              "      }\n",
              "    </style>\n",
              "    <button class=\"colab-df-generate\" onclick=\"generateWithVariable('airlines')\"\n",
              "            title=\"Generate code using this dataframe.\"\n",
              "            style=\"display:none;\">\n",
              "\n",
              "  <svg xmlns=\"http://www.w3.org/2000/svg\" height=\"24px\"viewBox=\"0 0 24 24\"\n",
              "       width=\"24px\">\n",
              "    <path d=\"M7,19H8.4L18.45,9,17,7.55,7,17.6ZM5,21V16.75L18.45,3.32a2,2,0,0,1,2.83,0l1.4,1.43a1.91,1.91,0,0,1,.58,1.4,1.91,1.91,0,0,1-.58,1.4L9.25,21ZM18.45,9,17,7.55Zm-12,3A5.31,5.31,0,0,0,4.9,8.1,5.31,5.31,0,0,0,1,6.5,5.31,5.31,0,0,0,4.9,4.9,5.31,5.31,0,0,0,6.5,1,5.31,5.31,0,0,0,8.1,4.9,5.31,5.31,0,0,0,12,6.5,5.46,5.46,0,0,0,6.5,12Z\"/>\n",
              "  </svg>\n",
              "    </button>\n",
              "    <script>\n",
              "      (() => {\n",
              "      const buttonEl =\n",
              "        document.querySelector('#id_e35178a6-ddef-4418-bd0c-2ecd03f1fc7e button.colab-df-generate');\n",
              "      buttonEl.style.display =\n",
              "        google.colab.kernel.accessAllowed ? 'block' : 'none';\n",
              "\n",
              "      buttonEl.onclick = () => {\n",
              "        google.colab.notebook.generateWithVariable('airlines');\n",
              "      }\n",
              "      })();\n",
              "    </script>\n",
              "  </div>\n",
              "\n",
              "    </div>\n",
              "  </div>\n"
            ],
            "application/vnd.google.colaboratory.intrinsic+json": {
              "type": "dataframe",
              "variable_name": "airlines",
              "summary": "{\n  \"name\": \"airlines\",\n  \"rows\": 3999,\n  \"fields\": [\n    {\n      \"column\": \"ID#\",\n      \"properties\": {\n        \"dtype\": \"number\",\n        \"std\": 1160,\n        \"min\": 1,\n        \"max\": 4021,\n        \"num_unique_values\": 3999,\n        \"samples\": [\n          1776,\n          3349,\n          1786\n        ],\n        \"semantic_type\": \"\",\n        \"description\": \"\"\n      }\n    },\n    {\n      \"column\": \"Balance\",\n      \"properties\": {\n        \"dtype\": \"number\",\n        \"std\": 100775,\n        \"min\": 0,\n        \"max\": 1704838,\n        \"num_unique_values\": 3904,\n        \"samples\": [\n          129972,\n          92406,\n          134346\n        ],\n        \"semantic_type\": \"\",\n        \"description\": \"\"\n      }\n    },\n    {\n      \"column\": \"Qual_miles\",\n      \"properties\": {\n        \"dtype\": \"number\",\n        \"std\": 773,\n        \"min\": 0,\n        \"max\": 11148,\n        \"num_unique_values\": 164,\n        \"samples\": [\n          2576,\n          2900,\n          2194\n        ],\n        \"semantic_type\": \"\",\n        \"description\": \"\"\n      }\n    },\n    {\n      \"column\": \"cc1_miles\",\n      \"properties\": {\n        \"dtype\": \"number\",\n        \"std\": 1,\n        \"min\": 1,\n        \"max\": 5,\n        \"num_unique_values\": 5,\n        \"samples\": [\n          4,\n          5,\n          3\n        ],\n        \"semantic_type\": \"\",\n        \"description\": \"\"\n      }\n    },\n    {\n      \"column\": \"cc2_miles\",\n      \"properties\": {\n        \"dtype\": \"number\",\n        \"std\": 0,\n        \"min\": 1,\n        \"max\": 3,\n        \"num_unique_values\": 3,\n        \"samples\": [\n          1,\n          2,\n          3\n        ],\n        \"semantic_type\": \"\",\n        \"description\": \"\"\n      }\n    },\n    {\n      \"column\": \"cc3_miles\",\n      \"properties\": {\n        \"dtype\": \"number\",\n        \"std\": 0,\n        \"min\": 1,\n        \"max\": 5,\n        \"num_unique_values\": 5,\n        \"samples\": [\n          3,\n          5,\n          2\n        ],\n        \"semantic_type\": \"\",\n        \"description\": \"\"\n      }\n    },\n    {\n      \"column\": \"Bonus_miles\",\n      \"properties\": {\n        \"dtype\": \"number\",\n        \"std\": 24150,\n        \"min\": 0,\n        \"max\": 263685,\n        \"num_unique_values\": 2734,\n        \"samples\": [\n          13495,\n          12798,\n          37766\n        ],\n        \"semantic_type\": \"\",\n        \"description\": \"\"\n      }\n    },\n    {\n      \"column\": \"Bonus_trans\",\n      \"properties\": {\n        \"dtype\": \"number\",\n        \"std\": 9,\n        \"min\": 0,\n        \"max\": 86,\n        \"num_unique_values\": 57,\n        \"samples\": [\n          1,\n          25,\n          9\n        ],\n        \"semantic_type\": \"\",\n        \"description\": \"\"\n      }\n    },\n    {\n      \"column\": \"Flight_miles_12mo\",\n      \"properties\": {\n        \"dtype\": \"number\",\n        \"std\": 1400,\n        \"min\": 0,\n        \"max\": 30817,\n        \"num_unique_values\": 343,\n        \"samples\": [\n          1816,\n          2055,\n          6047\n        ],\n        \"semantic_type\": \"\",\n        \"description\": \"\"\n      }\n    },\n    {\n      \"column\": \"Flight_trans_12\",\n      \"properties\": {\n        \"dtype\": \"number\",\n        \"std\": 3,\n        \"min\": 0,\n        \"max\": 53,\n        \"num_unique_values\": 35,\n        \"samples\": [\n          19,\n          10,\n          26\n        ],\n        \"semantic_type\": \"\",\n        \"description\": \"\"\n      }\n    },\n    {\n      \"column\": \"Days_since_enroll\",\n      \"properties\": {\n        \"dtype\": \"number\",\n        \"std\": 2065,\n        \"min\": 2,\n        \"max\": 8296,\n        \"num_unique_values\": 2820,\n        \"samples\": [\n          4758,\n          2206,\n          4896\n        ],\n        \"semantic_type\": \"\",\n        \"description\": \"\"\n      }\n    },\n    {\n      \"column\": \"Award?\",\n      \"properties\": {\n        \"dtype\": \"number\",\n        \"std\": 0,\n        \"min\": 0,\n        \"max\": 1,\n        \"num_unique_values\": 2,\n        \"samples\": [\n          1,\n          0\n        ],\n        \"semantic_type\": \"\",\n        \"description\": \"\"\n      }\n    }\n  ]\n}"
            }
          },
          "metadata": {},
          "execution_count": 36
        }
      ]
    },
    {
      "cell_type": "code",
      "source": [
        "airlines.columns"
      ],
      "metadata": {
        "id": "EM8AfLG-2MPC",
        "colab": {
          "base_uri": "https://localhost:8080/"
        },
        "outputId": "e2790f77-8e02-4328-f6e9-9a8fa441914b"
      },
      "execution_count": 37,
      "outputs": [
        {
          "output_type": "execute_result",
          "data": {
            "text/plain": [
              "Index(['ID#', 'Balance', 'Qual_miles', 'cc1_miles', 'cc2_miles', 'cc3_miles',\n",
              "       'Bonus_miles', 'Bonus_trans', 'Flight_miles_12mo', 'Flight_trans_12',\n",
              "       'Days_since_enroll', 'Award?'],\n",
              "      dtype='object')"
            ]
          },
          "metadata": {},
          "execution_count": 37
        }
      ]
    },
    {
      "cell_type": "code",
      "source": [
        "airlines.shape"
      ],
      "metadata": {
        "id": "qlJT6Bci2MS4",
        "colab": {
          "base_uri": "https://localhost:8080/"
        },
        "outputId": "0ef19c47-70e8-4d3e-82b6-239b3f09e746"
      },
      "execution_count": 38,
      "outputs": [
        {
          "output_type": "execute_result",
          "data": {
            "text/plain": [
              "(3999, 12)"
            ]
          },
          "metadata": {},
          "execution_count": 38
        }
      ]
    },
    {
      "cell_type": "code",
      "source": [
        "airlines.isna().sum()"
      ],
      "metadata": {
        "id": "XRm5VdYS2MXX",
        "colab": {
          "base_uri": "https://localhost:8080/"
        },
        "outputId": "f0f51db2-9d28-4299-bd2f-6439ee3ef5cc"
      },
      "execution_count": 39,
      "outputs": [
        {
          "output_type": "execute_result",
          "data": {
            "text/plain": [
              "ID#                  0\n",
              "Balance              0\n",
              "Qual_miles           0\n",
              "cc1_miles            0\n",
              "cc2_miles            0\n",
              "cc3_miles            0\n",
              "Bonus_miles          0\n",
              "Bonus_trans          0\n",
              "Flight_miles_12mo    0\n",
              "Flight_trans_12      0\n",
              "Days_since_enroll    0\n",
              "Award?               0\n",
              "dtype: int64"
            ]
          },
          "metadata": {},
          "execution_count": 39
        }
      ]
    },
    {
      "cell_type": "code",
      "source": [
        "airlines['ID#'].value_counts()"
      ],
      "metadata": {
        "colab": {
          "base_uri": "https://localhost:8080/"
        },
        "id": "_RGZzRb2bQYF",
        "outputId": "c5fcdda7-81a8-4471-cd83-b029748dede0"
      },
      "execution_count": 40,
      "outputs": [
        {
          "output_type": "execute_result",
          "data": {
            "text/plain": [
              "ID#\n",
              "1       1\n",
              "2691    1\n",
              "2678    1\n",
              "2679    1\n",
              "2680    1\n",
              "       ..\n",
              "1351    1\n",
              "1352    1\n",
              "1353    1\n",
              "1354    1\n",
              "4021    1\n",
              "Name: count, Length: 3999, dtype: int64"
            ]
          },
          "metadata": {},
          "execution_count": 40
        }
      ]
    },
    {
      "cell_type": "code",
      "source": [
        "airlines['ID#'].nunique()"
      ],
      "metadata": {
        "colab": {
          "base_uri": "https://localhost:8080/"
        },
        "id": "uKF0AEUibje8",
        "outputId": "eca6f5b6-cbb0-4149-e18a-66da6b608a62"
      },
      "execution_count": 41,
      "outputs": [
        {
          "output_type": "execute_result",
          "data": {
            "text/plain": [
              "3999"
            ]
          },
          "metadata": {},
          "execution_count": 41
        }
      ]
    },
    {
      "cell_type": "code",
      "source": [
        "airlines['ID#'].unique()"
      ],
      "metadata": {
        "colab": {
          "base_uri": "https://localhost:8080/"
        },
        "id": "P6zytWpQb5Hj",
        "outputId": "8d43b5cb-a8a7-42da-a486-cd3ebba8611c"
      },
      "execution_count": 42,
      "outputs": [
        {
          "output_type": "execute_result",
          "data": {
            "text/plain": [
              "array([   1,    2,    3, ..., 4019, 4020, 4021])"
            ]
          },
          "metadata": {},
          "execution_count": 42
        }
      ]
    },
    {
      "cell_type": "code",
      "source": [
        "airlines['ID#'].duplicated().value_counts()"
      ],
      "metadata": {
        "colab": {
          "base_uri": "https://localhost:8080/"
        },
        "id": "HAjBUkcyeFWG",
        "outputId": "c9728c31-2a74-4652-842e-395708340f68"
      },
      "execution_count": 43,
      "outputs": [
        {
          "output_type": "execute_result",
          "data": {
            "text/plain": [
              "ID#\n",
              "False    3999\n",
              "Name: count, dtype: int64"
            ]
          },
          "metadata": {},
          "execution_count": 43
        }
      ]
    },
    {
      "cell_type": "code",
      "source": [
        "#Each id is unique as there is no duplicate value in 'ID#' column"
      ],
      "metadata": {
        "id": "Ea_2BWTrb9aI"
      },
      "execution_count": 44,
      "outputs": []
    },
    {
      "cell_type": "code",
      "source": [
        "features=airlines.iloc[:,1:]"
      ],
      "metadata": {
        "id": "jObe0kr4egxK"
      },
      "execution_count": 45,
      "outputs": []
    },
    {
      "cell_type": "code",
      "source": [
        "scaler=MinMaxScaler()\n",
        "scaled_features=scaler.fit_transform(features)\n",
        "print(scaled_features)"
      ],
      "metadata": {
        "colab": {
          "base_uri": "https://localhost:8080/"
        },
        "id": "e1WaOgtGlZ2X",
        "outputId": "11429b56-92b1-4525-d1f2-81aec219f22c"
      },
      "execution_count": 46,
      "outputs": [
        {
          "output_type": "stream",
          "name": "stdout",
          "text": [
            "[[0.01650773 0.         0.         ... 0.         0.84374246 0.        ]\n",
            " [0.01128788 0.         0.         ... 0.         0.83988425 0.        ]\n",
            " [0.02425685 0.         0.         ... 0.         0.84784181 0.        ]\n",
            " ...\n",
            " [0.0431695  0.         0.5        ... 0.         0.16879672 1.        ]\n",
            " [0.03220189 0.         0.         ... 0.01886792 0.16867615 0.        ]\n",
            " [0.00176908 0.         0.         ... 0.         0.16831444 0.        ]]\n"
          ]
        }
      ]
    },
    {
      "cell_type": "markdown",
      "source": [
        "**CLUSTERING TECHNIQUES**"
      ],
      "metadata": {
        "id": "9C5KUD0qm5t8"
      }
    },
    {
      "cell_type": "markdown",
      "source": [
        "### **Hierarchical clustering**"
      ],
      "metadata": {
        "id": "j3fDCm4Tm53D"
      }
    },
    {
      "cell_type": "code",
      "source": [
        "model=AgglomerativeClustering(n_clusters=3,affinity=\"l2\",linkage=\"complete\")\n",
        "model.fit_predict(scaled_features)"
      ],
      "metadata": {
        "colab": {
          "base_uri": "https://localhost:8080/"
        },
        "id": "JgHFhuHImR2r",
        "outputId": "3193fea2-7921-437a-e149-236b91acb9a0"
      },
      "execution_count": 47,
      "outputs": [
        {
          "output_type": "stream",
          "name": "stderr",
          "text": [
            "/usr/local/lib/python3.10/dist-packages/sklearn/cluster/_agglomerative.py:983: FutureWarning: Attribute `affinity` was deprecated in version 1.2 and will be removed in 1.4. Use `metric` instead\n",
            "  warnings.warn(\n"
          ]
        },
        {
          "output_type": "execute_result",
          "data": {
            "text/plain": [
              "array([2, 2, 2, ..., 0, 2, 2])"
            ]
          },
          "metadata": {},
          "execution_count": 47
        }
      ]
    },
    {
      "cell_type": "code",
      "source": [
        "#Plotting Dendrogram\n",
        "\n",
        "from sklearn.cluster import AgglomerativeClustering           #for hirarchical clustering\n",
        "from scipy.cluster.hierarchy import dendrogram, linkage\n",
        "from scipy.spatial.distance import pdist                      #Spatial distance refers to the measurement of the separation\n",
        "                                                              #between two or more points in space.\n",
        "from matplotlib import pyplot as plt\n",
        "\n",
        "xdist=pdist(scaled_features,metric='euclidean')\n",
        "linked=linkage(xdist,'ward')                                  #Ward's method means calculating the incremental sum of squares\n",
        "\n",
        "plt.figure(figsize=(12,7))\n",
        "dendrogram(linked,\n",
        "           orientation='top',\n",
        "           distance_sort='descending',\n",
        "           show_leaf_counts=True)                             #distance_sort='descending'  ????  ,show_leaf_counts=True ????\n",
        "\n",
        "plt.show()\n"
      ],
      "metadata": {
        "colab": {
          "base_uri": "https://localhost:8080/",
          "height": 596
        },
        "id": "YJ-TSUKfnEyO",
        "outputId": "01959291-9d2c-44df-ec49-f958d6bc0b1a"
      },
      "execution_count": 48,
      "outputs": [
        {
          "output_type": "display_data",
          "data": {
            "text/plain": [
              "<Figure size 1200x700 with 1 Axes>"
            ],
            "image/png": "[encoded data removed]"
          },
          "metadata": {}
        }
      ]
    },
    {
      "cell_type": "markdown",
      "source": [
        "### **KMeans clustering**"
      ],
      "metadata": {
        "id": "4BZi84XspgbR"
      }
    },
    {
      "cell_type": "code",
      "source": [
        "model=KMeans(n_clusters=3)\n",
        "model.fit_predict(scaled_features)"
      ],
      "metadata": {
        "colab": {
          "base_uri": "https://localhost:8080/"
        },
        "id": "B_bT5DoMnT4k",
        "outputId": "347e6818-da72-4306-bde3-125d37593371"
      },
      "execution_count": 49,
      "outputs": [
        {
          "output_type": "stream",
          "name": "stderr",
          "text": [
            "/usr/local/lib/python3.10/dist-packages/sklearn/cluster/_kmeans.py:870: FutureWarning: The default value of `n_init` will change from 10 to 'auto' in 1.4. Set the value of `n_init` explicitly to suppress the warning\n",
            "  warnings.warn(\n"
          ]
        },
        {
          "output_type": "execute_result",
          "data": {
            "text/plain": [
              "array([1, 1, 1, ..., 0, 1, 1], dtype=int32)"
            ]
          },
          "metadata": {},
          "execution_count": 49
        }
      ]
    },
    {
      "cell_type": "code",
      "source": [
        "model.cluster_centers_"
      ],
      "metadata": {
        "colab": {
          "base_uri": "https://localhost:8080/"
        },
        "id": "WOjQOolepkPy",
        "outputId": "e7625a07-7043-485f-adf9-ee90c893fea8"
      },
      "execution_count": 50,
      "outputs": [
        {
          "output_type": "execute_result",
          "data": {
            "text/plain": [
              "array([[ 5.69280197e-02,  2.15461508e-02,  4.15428764e-01,\n",
              "         7.76502363e-03,  4.55773126e-03,  1.09621005e-01,\n",
              "         1.83518364e-01,  2.78255837e-02,  4.90489598e-02,\n",
              "         5.57398375e-01,  1.00000000e+00],\n",
              "       [ 2.39011667e-02,  8.28362120e-03,  2.31945177e-02,\n",
              "         8.96151819e-03,  1.05429626e-03,  1.26482465e-02,\n",
              "         7.54496083e-02,  7.35308092e-03,  1.24327389e-02,\n",
              "         4.36111859e-01,  7.21644966e-16],\n",
              "       [ 6.92335936e-02,  6.55837114e-03,  6.44122383e-01,\n",
              "         8.05152979e-04,  5.63607085e-03,  1.18636504e-01,\n",
              "         2.00595439e-01,  7.31260853e-03,  1.19405706e-02,\n",
              "         5.34640411e-01, -2.77555756e-16]])"
            ]
          },
          "metadata": {},
          "execution_count": 50
        }
      ]
    },
    {
      "cell_type": "markdown",
      "source": [
        " **DBSCAN clustering** --is not possible beause there are more than 2 features"
      ],
      "metadata": {
        "id": "sk5wQOxtps4-"
      }
    },
    {
      "cell_type": "markdown",
      "source": [
        "**Evaluation**"
      ],
      "metadata": {
        "id": "dDWiww6Qpwke"
      }
    },
    {
      "cell_type": "markdown",
      "source": [
        "###**Elbow Method for KMeans clustering**"
      ],
      "metadata": {
        "id": "iD82EskxpwtE"
      }
    },
    {
      "cell_type": "code",
      "source": [
        "l=[]\n",
        "for i in range(1,11):\n",
        "  model=KMeans(n_clusters=i)\n",
        "  model.fit(scaled_features)\n",
        "  l.append(model.inertia_)\n",
        "\n",
        "l"
      ],
      "metadata": {
        "colab": {
          "base_uri": "https://localhost:8080/"
        },
        "id": "4QWTt43MpojA",
        "outputId": "de4ee2d3-da33-4903-cbe3-ba445e925b27"
      },
      "execution_count": 51,
      "outputs": [
        {
          "output_type": "stream",
          "name": "stderr",
          "text": [
            "/usr/local/lib/python3.10/dist-packages/sklearn/cluster/_kmeans.py:870: FutureWarning: The default value of `n_init` will change from 10 to 'auto' in 1.4. Set the value of `n_init` explicitly to suppress the warning\n",
            "  warnings.warn(\n",
            "/usr/local/lib/python3.10/dist-packages/sklearn/cluster/_kmeans.py:870: FutureWarning: The default value of `n_init` will change from 10 to 'auto' in 1.4. Set the value of `n_init` explicitly to suppress the warning\n",
            "  warnings.warn(\n",
            "/usr/local/lib/python3.10/dist-packages/sklearn/cluster/_kmeans.py:870: FutureWarning: The default value of `n_init` will change from 10 to 'auto' in 1.4. Set the value of `n_init` explicitly to suppress the warning\n",
            "  warnings.warn(\n",
            "/usr/local/lib/python3.10/dist-packages/sklearn/cluster/_kmeans.py:870: FutureWarning: The default value of `n_init` will change from 10 to 'auto' in 1.4. Set the value of `n_init` explicitly to suppress the warning\n",
            "  warnings.warn(\n",
            "/usr/local/lib/python3.10/dist-packages/sklearn/cluster/_kmeans.py:870: FutureWarning: The default value of `n_init` will change from 10 to 'auto' in 1.4. Set the value of `n_init` explicitly to suppress the warning\n",
            "  warnings.warn(\n",
            "/usr/local/lib/python3.10/dist-packages/sklearn/cluster/_kmeans.py:870: FutureWarning: The default value of `n_init` will change from 10 to 'auto' in 1.4. Set the value of `n_init` explicitly to suppress the warning\n",
            "  warnings.warn(\n",
            "/usr/local/lib/python3.10/dist-packages/sklearn/cluster/_kmeans.py:870: FutureWarning: The default value of `n_init` will change from 10 to 'auto' in 1.4. Set the value of `n_init` explicitly to suppress the warning\n",
            "  warnings.warn(\n",
            "/usr/local/lib/python3.10/dist-packages/sklearn/cluster/_kmeans.py:870: FutureWarning: The default value of `n_init` will change from 10 to 'auto' in 1.4. Set the value of `n_init` explicitly to suppress the warning\n",
            "  warnings.warn(\n",
            "/usr/local/lib/python3.10/dist-packages/sklearn/cluster/_kmeans.py:870: FutureWarning: The default value of `n_init` will change from 10 to 'auto' in 1.4. Set the value of `n_init` explicitly to suppress the warning\n",
            "  warnings.warn(\n",
            "/usr/local/lib/python3.10/dist-packages/sklearn/cluster/_kmeans.py:870: FutureWarning: The default value of `n_init` will change from 10 to 'auto' in 1.4. Set the value of `n_init` explicitly to suppress the warning\n",
            "  warnings.warn(\n"
          ]
        },
        {
          "output_type": "execute_result",
          "data": {
            "text/plain": [
              "[1830.793212858411,\n",
              " 823.6756984125209,\n",
              " 625.1684881570724,\n",
              " 436.70885761932567,\n",
              " 348.9433217254141,\n",
              " 315.1488683626062,\n",
              " 287.9422207626295,\n",
              " 263.19570542178684,\n",
              " 243.92454285410207,\n",
              " 226.1083972733445]"
            ]
          },
          "metadata": {},
          "execution_count": 51
        }
      ]
    },
    {
      "cell_type": "code",
      "source": [
        "plt.figure(figsize=(8,4))\n",
        "plt.style.use('seaborn-darkgrid')\n",
        "plt.scatter(range(1,11),l,s=50,color='black')\n",
        "plt.plot(range(1,11),l,color='red',linestyle='-.')\n",
        "plt.xticks(range(1,11))\n",
        "plt.show();"
      ],
      "metadata": {
        "colab": {
          "base_uri": "https://localhost:8080/",
          "height": 418
        },
        "id": "7au1rU9Cp3nW",
        "outputId": "ca1ab2a5-026f-4e67-ddc2-3efa6dbcfbd3"
      },
      "execution_count": 52,
      "outputs": [
        {
          "output_type": "stream",
          "name": "stderr",
          "text": [
            "<ipython-input-52-084b7f0d19b1>:2: MatplotlibDeprecationWarning: The seaborn styles shipped by Matplotlib are deprecated since 3.6, as they no longer correspond to the styles shipped by seaborn. However, they will remain available as 'seaborn-v0_8-<style>'. Alternatively, directly use the seaborn API instead.\n",
            "  plt.style.use('seaborn-darkgrid')\n"
          ]
        },
        {
          "output_type": "display_data",
          "data": {
            "text/plain": [
              "<Figure size 800x400 with 1 Axes>"
            ],
            "image/png": "[encoded data removed]"
          },
          "metadata": {}
        }
      ]
    },
    {
      "cell_type": "markdown",
      "source": [
        "Elbow point is at 2 ,Therefore there should be 2 clusters."
      ],
      "metadata": {
        "id": "6KydxaRs4JvX"
      }
    },
    {
      "cell_type": "markdown",
      "source": [
        "###**Silhouette Method for all clustering techniques**"
      ],
      "metadata": {
        "id": "cz7OG4f_qDUv"
      }
    },
    {
      "cell_type": "code",
      "source": [
        "from sklearn.metrics import silhouette_score"
      ],
      "metadata": {
        "id": "q4o4Qfx7qCHW"
      },
      "execution_count": 53,
      "outputs": []
    },
    {
      "cell_type": "code",
      "source": [
        "#for KMean clustering technique\n",
        "\n",
        "nc=range(2,11)\n",
        "l=[]\n",
        "for i in nc:\n",
        "  model=KMeans(n_clusters=i)\n",
        "  #model.fit_predict(scaled_fearures)\n",
        "  l.append(silhouette_score(scaled_features,model.fit_predict(scaled_features)))\n",
        "\n",
        "\n",
        "\n",
        "#plotting\n",
        "plt.figure(figsize=(8,4))\n",
        "plt.style.use('seaborn-darkgrid')\n",
        "plt.scatter(nc,l,s=50,color='black')\n",
        "plt.plot(nc,l,color='red',linestyle='-.')\n",
        "plt.xticks(range(1,11))\n",
        "plt.show();\n",
        "\n",
        "\n",
        "l"
      ],
      "metadata": {
        "colab": {
          "base_uri": "https://localhost:8080/",
          "height": 886
        },
        "id": "EPpleuB3qHpP",
        "outputId": "81ca4d92-4a59-4142-9979-111f34146817"
      },
      "execution_count": 54,
      "outputs": [
        {
          "output_type": "stream",
          "name": "stderr",
          "text": [
            "/usr/local/lib/python3.10/dist-packages/sklearn/cluster/_kmeans.py:870: FutureWarning: The default value of `n_init` will change from 10 to 'auto' in 1.4. Set the value of `n_init` explicitly to suppress the warning\n",
            "  warnings.warn(\n",
            "/usr/local/lib/python3.10/dist-packages/sklearn/cluster/_kmeans.py:870: FutureWarning: The default value of `n_init` will change from 10 to 'auto' in 1.4. Set the value of `n_init` explicitly to suppress the warning\n",
            "  warnings.warn(\n",
            "/usr/local/lib/python3.10/dist-packages/sklearn/cluster/_kmeans.py:870: FutureWarning: The default value of `n_init` will change from 10 to 'auto' in 1.4. Set the value of `n_init` explicitly to suppress the warning\n",
            "  warnings.warn(\n",
            "/usr/local/lib/python3.10/dist-packages/sklearn/cluster/_kmeans.py:870: FutureWarning: The default value of `n_init` will change from 10 to 'auto' in 1.4. Set the value of `n_init` explicitly to suppress the warning\n",
            "  warnings.warn(\n",
            "/usr/local/lib/python3.10/dist-packages/sklearn/cluster/_kmeans.py:870: FutureWarning: The default value of `n_init` will change from 10 to 'auto' in 1.4. Set the value of `n_init` explicitly to suppress the warning\n",
            "  warnings.warn(\n",
            "/usr/local/lib/python3.10/dist-packages/sklearn/cluster/_kmeans.py:870: FutureWarning: The default value of `n_init` will change from 10 to 'auto' in 1.4. Set the value of `n_init` explicitly to suppress the warning\n",
            "  warnings.warn(\n",
            "/usr/local/lib/python3.10/dist-packages/sklearn/cluster/_kmeans.py:870: FutureWarning: The default value of `n_init` will change from 10 to 'auto' in 1.4. Set the value of `n_init` explicitly to suppress the warning\n",
            "  warnings.warn(\n",
            "/usr/local/lib/python3.10/dist-packages/sklearn/cluster/_kmeans.py:870: FutureWarning: The default value of `n_init` will change from 10 to 'auto' in 1.4. Set the value of `n_init` explicitly to suppress the warning\n",
            "  warnings.warn(\n",
            "/usr/local/lib/python3.10/dist-packages/sklearn/cluster/_kmeans.py:870: FutureWarning: The default value of `n_init` will change from 10 to 'auto' in 1.4. Set the value of `n_init` explicitly to suppress the warning\n",
            "  warnings.warn(\n",
            "<ipython-input-54-a49087da115b>:14: MatplotlibDeprecationWarning: The seaborn styles shipped by Matplotlib are deprecated since 3.6, as they no longer correspond to the styles shipped by seaborn. However, they will remain available as 'seaborn-v0_8-<style>'. Alternatively, directly use the seaborn API instead.\n",
            "  plt.style.use('seaborn-darkgrid')\n"
          ]
        },
        {
          "output_type": "display_data",
          "data": {
            "text/plain": [
              "<Figure size 800x400 with 1 Axes>"
            ],
            "image/png": "[encoded data removed]"
          },
          "metadata": {}
        },
        {
          "output_type": "execute_result",
          "data": {
            "text/plain": [
              "[0.535930510919477,\n",
              " 0.4646127065079619,\n",
              " 0.47483765255961,\n",
              " 0.4430672072796034,\n",
              " 0.4027477317323024,\n",
              " 0.3910354218991932,\n",
              " 0.38030165896247936,\n",
              " 0.3842538055607832,\n",
              " 0.336155303295017]"
            ]
          },
          "metadata": {},
          "execution_count": 54
        }
      ]
    },
    {
      "cell_type": "code",
      "source": [
        "# printing highest Silhouette score for the respective technique\n",
        "print(max(l),'for',nc[l.index(max(l))],\"clusters\")"
      ],
      "metadata": {
        "colab": {
          "base_uri": "https://localhost:8080/"
        },
        "id": "KzWGipwN-30r",
        "outputId": "f1ebc102-17bc-4c9c-f57a-4a7360df8f64"
      },
      "execution_count": 55,
      "outputs": [
        {
          "output_type": "stream",
          "name": "stdout",
          "text": [
            "0.535930510919477 for 2 clusters\n"
          ]
        }
      ]
    },
    {
      "cell_type": "code",
      "source": [
        "#for hierarchical clustering technique with affinity='l1'and linkage='single'\n",
        "\n",
        "nc=range(2,11)\n",
        "l=[]\n",
        "for i in nc:\n",
        "  model=AgglomerativeClustering(n_clusters=i,affinity='l1',linkage='single')\n",
        "  l.append(silhouette_score(scaled_features,model.fit_predict(scaled_features)))\n",
        "\n",
        "\n",
        "#plotting\n",
        "plt.figure(figsize=(8,4))\n",
        "plt.style.use('seaborn-darkgrid')\n",
        "plt.scatter(nc,l,s=50,color='black')\n",
        "plt.plot(nc,l,color='red',linestyle='-.')\n",
        "plt.xticks(range(1,11))\n",
        "plt.show();\n",
        "\n",
        "\n",
        "l"
      ],
      "metadata": {
        "colab": {
          "base_uri": "https://localhost:8080/",
          "height": 886
        },
        "id": "2Aa-kXphqLXL",
        "outputId": "722819b3-1b0f-47a5-9334-53f4c14c5a73"
      },
      "execution_count": 56,
      "outputs": [
        {
          "output_type": "stream",
          "name": "stderr",
          "text": [
            "/usr/local/lib/python3.10/dist-packages/sklearn/cluster/_agglomerative.py:983: FutureWarning: Attribute `affinity` was deprecated in version 1.2 and will be removed in 1.4. Use `metric` instead\n",
            "  warnings.warn(\n",
            "/usr/local/lib/python3.10/dist-packages/sklearn/cluster/_agglomerative.py:983: FutureWarning: Attribute `affinity` was deprecated in version 1.2 and will be removed in 1.4. Use `metric` instead\n",
            "  warnings.warn(\n",
            "/usr/local/lib/python3.10/dist-packages/sklearn/cluster/_agglomerative.py:983: FutureWarning: Attribute `affinity` was deprecated in version 1.2 and will be removed in 1.4. Use `metric` instead\n",
            "  warnings.warn(\n",
            "/usr/local/lib/python3.10/dist-packages/sklearn/cluster/_agglomerative.py:983: FutureWarning: Attribute `affinity` was deprecated in version 1.2 and will be removed in 1.4. Use `metric` instead\n",
            "  warnings.warn(\n",
            "/usr/local/lib/python3.10/dist-packages/sklearn/cluster/_agglomerative.py:983: FutureWarning: Attribute `affinity` was deprecated in version 1.2 and will be removed in 1.4. Use `metric` instead\n",
            "  warnings.warn(\n",
            "/usr/local/lib/python3.10/dist-packages/sklearn/cluster/_agglomerative.py:983: FutureWarning: Attribute `affinity` was deprecated in version 1.2 and will be removed in 1.4. Use `metric` instead\n",
            "  warnings.warn(\n",
            "/usr/local/lib/python3.10/dist-packages/sklearn/cluster/_agglomerative.py:983: FutureWarning: Attribute `affinity` was deprecated in version 1.2 and will be removed in 1.4. Use `metric` instead\n",
            "  warnings.warn(\n",
            "/usr/local/lib/python3.10/dist-packages/sklearn/cluster/_agglomerative.py:983: FutureWarning: Attribute `affinity` was deprecated in version 1.2 and will be removed in 1.4. Use `metric` instead\n",
            "  warnings.warn(\n",
            "/usr/local/lib/python3.10/dist-packages/sklearn/cluster/_agglomerative.py:983: FutureWarning: Attribute `affinity` was deprecated in version 1.2 and will be removed in 1.4. Use `metric` instead\n",
            "  warnings.warn(\n",
            "<ipython-input-56-9e2713484ac2>:12: MatplotlibDeprecationWarning: The seaborn styles shipped by Matplotlib are deprecated since 3.6, as they no longer correspond to the styles shipped by seaborn. However, they will remain available as 'seaborn-v0_8-<style>'. Alternatively, directly use the seaborn API instead.\n",
            "  plt.style.use('seaborn-darkgrid')\n"
          ]
        },
        {
          "output_type": "display_data",
          "data": {
            "text/plain": [
              "<Figure size 800x400 with 1 Axes>"
            ],
            "image/png": "[encoded data removed]"
          },
          "metadata": {}
        },
        {
          "output_type": "execute_result",
          "data": {
            "text/plain": [
              "[0.5460574674055123,\n",
              " 0.4404056635334302,\n",
              " 0.5268941425720746,\n",
              " 0.5221752413547429,\n",
              " 0.4549821830518893,\n",
              " 0.4160803855658161,\n",
              " 0.4152529462975249,\n",
              " 0.38677638239588863,\n",
              " 0.3863635929394707]"
            ]
          },
          "metadata": {},
          "execution_count": 56
        }
      ]
    },
    {
      "cell_type": "code",
      "source": [
        "# printing highest Silhouette score for the respective technique\n",
        "print(max(l),'for',nc[l.index(max(l))],\"clusters\")"
      ],
      "metadata": {
        "colab": {
          "base_uri": "https://localhost:8080/"
        },
        "id": "JBjVuWgU_Eeh",
        "outputId": "fdf0df50-d1f0-4951-dee4-24f87e804ead"
      },
      "execution_count": 57,
      "outputs": [
        {
          "output_type": "stream",
          "name": "stdout",
          "text": [
            "0.5460574674055123 for 2 clusters\n"
          ]
        }
      ]
    },
    {
      "cell_type": "code",
      "source": [
        "#for hierarchical clustering technique with affinity='l1'and linkage='average'\n",
        "\n",
        "nc=range(2,11)\n",
        "l=[]\n",
        "for i in nc:\n",
        "  model=AgglomerativeClustering(n_clusters=i,affinity='l1',linkage='average')\n",
        "  l.append(silhouette_score(scaled_features,model.fit_predict(scaled_features)))\n",
        "\n",
        "\n",
        "#plotting\n",
        "plt.figure(figsize=(8,4))\n",
        "plt.style.use('seaborn-darkgrid')\n",
        "plt.scatter(nc,l,s=50,color='black')\n",
        "plt.plot(nc,l,color='red',linestyle='-.')\n",
        "plt.xticks(range(1,11))\n",
        "plt.show();\n",
        "\n",
        "\n",
        "l"
      ],
      "metadata": {
        "colab": {
          "base_uri": "https://localhost:8080/",
          "height": 886
        },
        "id": "mwFxB4S_qy9p",
        "outputId": "5eb31dbf-54a2-49cc-e4a4-bf1bfeb48100"
      },
      "execution_count": 58,
      "outputs": [
        {
          "output_type": "stream",
          "name": "stderr",
          "text": [
            "/usr/local/lib/python3.10/dist-packages/sklearn/cluster/_agglomerative.py:983: FutureWarning: Attribute `affinity` was deprecated in version 1.2 and will be removed in 1.4. Use `metric` instead\n",
            "  warnings.warn(\n",
            "/usr/local/lib/python3.10/dist-packages/sklearn/cluster/_agglomerative.py:983: FutureWarning: Attribute `affinity` was deprecated in version 1.2 and will be removed in 1.4. Use `metric` instead\n",
            "  warnings.warn(\n",
            "/usr/local/lib/python3.10/dist-packages/sklearn/cluster/_agglomerative.py:983: FutureWarning: Attribute `affinity` was deprecated in version 1.2 and will be removed in 1.4. Use `metric` instead\n",
            "  warnings.warn(\n",
            "/usr/local/lib/python3.10/dist-packages/sklearn/cluster/_agglomerative.py:983: FutureWarning: Attribute `affinity` was deprecated in version 1.2 and will be removed in 1.4. Use `metric` instead\n",
            "  warnings.warn(\n",
            "/usr/local/lib/python3.10/dist-packages/sklearn/cluster/_agglomerative.py:983: FutureWarning: Attribute `affinity` was deprecated in version 1.2 and will be removed in 1.4. Use `metric` instead\n",
            "  warnings.warn(\n",
            "/usr/local/lib/python3.10/dist-packages/sklearn/cluster/_agglomerative.py:983: FutureWarning: Attribute `affinity` was deprecated in version 1.2 and will be removed in 1.4. Use `metric` instead\n",
            "  warnings.warn(\n",
            "/usr/local/lib/python3.10/dist-packages/sklearn/cluster/_agglomerative.py:983: FutureWarning: Attribute `affinity` was deprecated in version 1.2 and will be removed in 1.4. Use `metric` instead\n",
            "  warnings.warn(\n",
            "/usr/local/lib/python3.10/dist-packages/sklearn/cluster/_agglomerative.py:983: FutureWarning: Attribute `affinity` was deprecated in version 1.2 and will be removed in 1.4. Use `metric` instead\n",
            "  warnings.warn(\n",
            "/usr/local/lib/python3.10/dist-packages/sklearn/cluster/_agglomerative.py:983: FutureWarning: Attribute `affinity` was deprecated in version 1.2 and will be removed in 1.4. Use `metric` instead\n",
            "  warnings.warn(\n",
            "<ipython-input-58-32d6072bdb06>:12: MatplotlibDeprecationWarning: The seaborn styles shipped by Matplotlib are deprecated since 3.6, as they no longer correspond to the styles shipped by seaborn. However, they will remain available as 'seaborn-v0_8-<style>'. Alternatively, directly use the seaborn API instead.\n",
            "  plt.style.use('seaborn-darkgrid')\n"
          ]
        },
        {
          "output_type": "display_data",
          "data": {
            "text/plain": [
              "<Figure size 800x400 with 1 Axes>"
            ],
            "image/png": "[encoded data removed]"
          },
          "metadata": {}
        },
        {
          "output_type": "execute_result",
          "data": {
            "text/plain": [
              "[0.45418920710462085,\n",
              " 0.3323917935404542,\n",
              " 0.31852848618488866,\n",
              " 0.27594827838415237,\n",
              " 0.2686786424552447,\n",
              " 0.14529921812056693,\n",
              " 0.13354014692025812,\n",
              " 0.4061606621782466,\n",
              " 0.38819381324443597]"
            ]
          },
          "metadata": {},
          "execution_count": 58
        }
      ]
    },
    {
      "cell_type": "code",
      "source": [
        "# printing highest Silhouette score for the respective technique\n",
        "print(max(l),'for',nc[l.index(max(l))],\"clusters\")"
      ],
      "metadata": {
        "colab": {
          "base_uri": "https://localhost:8080/"
        },
        "id": "tpeaIi2g8l1C",
        "outputId": "ead53f91-0af1-45ce-d176-3858fad738e3"
      },
      "execution_count": 59,
      "outputs": [
        {
          "output_type": "stream",
          "name": "stdout",
          "text": [
            "0.45418920710462085 for 2 clusters\n"
          ]
        }
      ]
    },
    {
      "cell_type": "code",
      "source": [
        "#for hierarchical clustering technique with affinity='l1'and linkage='complete'\n",
        "\n",
        "nc=range(2,11)\n",
        "l=[]\n",
        "for i in nc:\n",
        "  model=AgglomerativeClustering(n_clusters=i,affinity='l1',linkage='complete')\n",
        "  l.append(silhouette_score(scaled_features,model.fit_predict(scaled_features)))\n",
        "\n",
        "\n",
        "#plotting\n",
        "plt.figure(figsize=(8,4))\n",
        "plt.style.use('seaborn-darkgrid')\n",
        "plt.scatter(nc,l,s=50,color='black')\n",
        "plt.plot(nc,l,color='red',linestyle='-.')\n",
        "plt.xticks(range(1,11))\n",
        "plt.show();\n",
        "\n",
        "\n",
        "l"
      ],
      "metadata": {
        "colab": {
          "base_uri": "https://localhost:8080/",
          "height": 886
        },
        "id": "iELRdznUrNtN",
        "outputId": "0dd2a558-bb09-4487-d714-e3dfcf37ea99"
      },
      "execution_count": 60,
      "outputs": [
        {
          "output_type": "stream",
          "name": "stderr",
          "text": [
            "/usr/local/lib/python3.10/dist-packages/sklearn/cluster/_agglomerative.py:983: FutureWarning: Attribute `affinity` was deprecated in version 1.2 and will be removed in 1.4. Use `metric` instead\n",
            "  warnings.warn(\n",
            "/usr/local/lib/python3.10/dist-packages/sklearn/cluster/_agglomerative.py:983: FutureWarning: Attribute `affinity` was deprecated in version 1.2 and will be removed in 1.4. Use `metric` instead\n",
            "  warnings.warn(\n",
            "/usr/local/lib/python3.10/dist-packages/sklearn/cluster/_agglomerative.py:983: FutureWarning: Attribute `affinity` was deprecated in version 1.2 and will be removed in 1.4. Use `metric` instead\n",
            "  warnings.warn(\n",
            "/usr/local/lib/python3.10/dist-packages/sklearn/cluster/_agglomerative.py:983: FutureWarning: Attribute `affinity` was deprecated in version 1.2 and will be removed in 1.4. Use `metric` instead\n",
            "  warnings.warn(\n",
            "/usr/local/lib/python3.10/dist-packages/sklearn/cluster/_agglomerative.py:983: FutureWarning: Attribute `affinity` was deprecated in version 1.2 and will be removed in 1.4. Use `metric` instead\n",
            "  warnings.warn(\n",
            "/usr/local/lib/python3.10/dist-packages/sklearn/cluster/_agglomerative.py:983: FutureWarning: Attribute `affinity` was deprecated in version 1.2 and will be removed in 1.4. Use `metric` instead\n",
            "  warnings.warn(\n",
            "/usr/local/lib/python3.10/dist-packages/sklearn/cluster/_agglomerative.py:983: FutureWarning: Attribute `affinity` was deprecated in version 1.2 and will be removed in 1.4. Use `metric` instead\n",
            "  warnings.warn(\n",
            "/usr/local/lib/python3.10/dist-packages/sklearn/cluster/_agglomerative.py:983: FutureWarning: Attribute `affinity` was deprecated in version 1.2 and will be removed in 1.4. Use `metric` instead\n",
            "  warnings.warn(\n",
            "/usr/local/lib/python3.10/dist-packages/sklearn/cluster/_agglomerative.py:983: FutureWarning: Attribute `affinity` was deprecated in version 1.2 and will be removed in 1.4. Use `metric` instead\n",
            "  warnings.warn(\n",
            "<ipython-input-60-65c3b7329e99>:12: MatplotlibDeprecationWarning: The seaborn styles shipped by Matplotlib are deprecated since 3.6, as they no longer correspond to the styles shipped by seaborn. However, they will remain available as 'seaborn-v0_8-<style>'. Alternatively, directly use the seaborn API instead.\n",
            "  plt.style.use('seaborn-darkgrid')\n"
          ]
        },
        {
          "output_type": "display_data",
          "data": {
            "text/plain": [
              "<Figure size 800x400 with 1 Axes>"
            ],
            "image/png": "[encoded data removed]"
          },
          "metadata": {}
        },
        {
          "output_type": "execute_result",
          "data": {
            "text/plain": [
              "[0.47040913679492186,\n",
              " 0.5322330314764526,\n",
              " 0.526488118545087,\n",
              " 0.4894363304545697,\n",
              " 0.46231895316690685,\n",
              " 0.4587458835672447,\n",
              " 0.4145108628963961,\n",
              " 0.4153908197416106,\n",
              " 0.39558643037377633]"
            ]
          },
          "metadata": {},
          "execution_count": 60
        }
      ]
    },
    {
      "cell_type": "code",
      "source": [
        "# printing highest Silhouette score for the respective technique\n",
        "print(max(l),'for',nc[l.index(max(l))],\"clusters\")"
      ],
      "metadata": {
        "colab": {
          "base_uri": "https://localhost:8080/"
        },
        "id": "6xYaPjsJ_jUs",
        "outputId": "bcb8a156-4989-4440-cb78-f670c640cb60"
      },
      "execution_count": 61,
      "outputs": [
        {
          "output_type": "stream",
          "name": "stdout",
          "text": [
            "0.5322330314764526 for 3 clusters\n"
          ]
        }
      ]
    },
    {
      "cell_type": "code",
      "source": [
        "#for hierarchical clustering technique with affinity='l2'and linkage='single'\n",
        "\n",
        "nc=range(2,11)\n",
        "l=[]\n",
        "for i in nc:\n",
        "  model=AgglomerativeClustering(n_clusters=i,affinity='l2',linkage='single')\n",
        "  l.append(silhouette_score(scaled_features,model.fit_predict(scaled_features)))\n",
        "\n",
        "\n",
        "#plotting\n",
        "plt.figure(figsize=(8,4))\n",
        "plt.style.use('seaborn-darkgrid')\n",
        "plt.scatter(nc,l,s=50,color='black')\n",
        "plt.plot(nc,l,color='red',linestyle='-.')\n",
        "plt.xticks(range(1,11))\n",
        "plt.show();\n",
        "\n",
        "\n",
        "\n",
        "\n",
        "# printing highest Silhouette score for the respective technique\n",
        "print(max(l),'for',nc[l.index(max(l))],\"clusters\")\n",
        "\n",
        "l"
      ],
      "metadata": {
        "colab": {
          "base_uri": "https://localhost:8080/",
          "height": 904
        },
        "id": "cYWDBU3erSD_",
        "outputId": "aef9712f-a83f-46ce-f635-f6e5b32bf0ea"
      },
      "execution_count": 62,
      "outputs": [
        {
          "output_type": "stream",
          "name": "stderr",
          "text": [
            "/usr/local/lib/python3.10/dist-packages/sklearn/cluster/_agglomerative.py:983: FutureWarning: Attribute `affinity` was deprecated in version 1.2 and will be removed in 1.4. Use `metric` instead\n",
            "  warnings.warn(\n",
            "/usr/local/lib/python3.10/dist-packages/sklearn/cluster/_agglomerative.py:983: FutureWarning: Attribute `affinity` was deprecated in version 1.2 and will be removed in 1.4. Use `metric` instead\n",
            "  warnings.warn(\n",
            "/usr/local/lib/python3.10/dist-packages/sklearn/cluster/_agglomerative.py:983: FutureWarning: Attribute `affinity` was deprecated in version 1.2 and will be removed in 1.4. Use `metric` instead\n",
            "  warnings.warn(\n",
            "/usr/local/lib/python3.10/dist-packages/sklearn/cluster/_agglomerative.py:983: FutureWarning: Attribute `affinity` was deprecated in version 1.2 and will be removed in 1.4. Use `metric` instead\n",
            "  warnings.warn(\n",
            "/usr/local/lib/python3.10/dist-packages/sklearn/cluster/_agglomerative.py:983: FutureWarning: Attribute `affinity` was deprecated in version 1.2 and will be removed in 1.4. Use `metric` instead\n",
            "  warnings.warn(\n",
            "/usr/local/lib/python3.10/dist-packages/sklearn/cluster/_agglomerative.py:983: FutureWarning: Attribute `affinity` was deprecated in version 1.2 and will be removed in 1.4. Use `metric` instead\n",
            "  warnings.warn(\n",
            "/usr/local/lib/python3.10/dist-packages/sklearn/cluster/_agglomerative.py:983: FutureWarning: Attribute `affinity` was deprecated in version 1.2 and will be removed in 1.4. Use `metric` instead\n",
            "  warnings.warn(\n",
            "/usr/local/lib/python3.10/dist-packages/sklearn/cluster/_agglomerative.py:983: FutureWarning: Attribute `affinity` was deprecated in version 1.2 and will be removed in 1.4. Use `metric` instead\n",
            "  warnings.warn(\n",
            "/usr/local/lib/python3.10/dist-packages/sklearn/cluster/_agglomerative.py:983: FutureWarning: Attribute `affinity` was deprecated in version 1.2 and will be removed in 1.4. Use `metric` instead\n",
            "  warnings.warn(\n",
            "<ipython-input-62-5c3296ff7c30>:12: MatplotlibDeprecationWarning: The seaborn styles shipped by Matplotlib are deprecated since 3.6, as they no longer correspond to the styles shipped by seaborn. However, they will remain available as 'seaborn-v0_8-<style>'. Alternatively, directly use the seaborn API instead.\n",
            "  plt.style.use('seaborn-darkgrid')\n"
          ]
        },
        {
          "output_type": "display_data",
          "data": {
            "text/plain": [
              "<Figure size 800x400 with 1 Axes>"
            ],
            "image/png": "[encoded data removed]"
          },
          "metadata": {}
        },
        {
          "output_type": "stream",
          "name": "stdout",
          "text": [
            "0.535930510919477 for 2 clusters\n"
          ]
        },
        {
          "output_type": "execute_result",
          "data": {
            "text/plain": [
              "[0.535930510919477,\n",
              " 0.5351606918177734,\n",
              " 0.48129679558120275,\n",
              " 0.48005487141025094,\n",
              " 0.4327930185753205,\n",
              " 0.4313535297638312,\n",
              " 0.39132817868911945,\n",
              " 0.39065115753519675,\n",
              " 0.39161410759857124]"
            ]
          },
          "metadata": {},
          "execution_count": 62
        }
      ]
    },
    {
      "cell_type": "code",
      "source": [
        "#for hierarchical clustering technique with affinity='l2'and linkage='average'\n",
        "\n",
        "nc=range(2,11)\n",
        "l=[]\n",
        "for i in nc:\n",
        "  model=AgglomerativeClustering(n_clusters=i,affinity='l2',linkage='average')\n",
        "  l.append(silhouette_score(scaled_features,model.fit_predict(scaled_features)))\n",
        "\n",
        "\n",
        "#plotting\n",
        "plt.figure(figsize=(8,4))\n",
        "plt.style.use('seaborn-darkgrid')\n",
        "plt.scatter(nc,l,s=50,color='black')\n",
        "plt.plot(nc,l,color='red',linestyle='-.')\n",
        "plt.xticks(range(1,11))\n",
        "plt.show();\n",
        "\n",
        "\n",
        "\n",
        "# printing highest Silhouette score for the respective technique\n",
        "print(max(l),'for',nc[l.index(max(l))],\"clusters\")\n",
        "\n",
        "l"
      ],
      "metadata": {
        "colab": {
          "base_uri": "https://localhost:8080/",
          "height": 904
        },
        "id": "iTUnZqb7rYil",
        "outputId": "ac252258-9dce-4d4f-aa6e-cc6fb42c1f13"
      },
      "execution_count": 63,
      "outputs": [
        {
          "output_type": "stream",
          "name": "stderr",
          "text": [
            "/usr/local/lib/python3.10/dist-packages/sklearn/cluster/_agglomerative.py:983: FutureWarning: Attribute `affinity` was deprecated in version 1.2 and will be removed in 1.4. Use `metric` instead\n",
            "  warnings.warn(\n",
            "/usr/local/lib/python3.10/dist-packages/sklearn/cluster/_agglomerative.py:983: FutureWarning: Attribute `affinity` was deprecated in version 1.2 and will be removed in 1.4. Use `metric` instead\n",
            "  warnings.warn(\n",
            "/usr/local/lib/python3.10/dist-packages/sklearn/cluster/_agglomerative.py:983: FutureWarning: Attribute `affinity` was deprecated in version 1.2 and will be removed in 1.4. Use `metric` instead\n",
            "  warnings.warn(\n",
            "/usr/local/lib/python3.10/dist-packages/sklearn/cluster/_agglomerative.py:983: FutureWarning: Attribute `affinity` was deprecated in version 1.2 and will be removed in 1.4. Use `metric` instead\n",
            "  warnings.warn(\n",
            "/usr/local/lib/python3.10/dist-packages/sklearn/cluster/_agglomerative.py:983: FutureWarning: Attribute `affinity` was deprecated in version 1.2 and will be removed in 1.4. Use `metric` instead\n",
            "  warnings.warn(\n",
            "/usr/local/lib/python3.10/dist-packages/sklearn/cluster/_agglomerative.py:983: FutureWarning: Attribute `affinity` was deprecated in version 1.2 and will be removed in 1.4. Use `metric` instead\n",
            "  warnings.warn(\n",
            "/usr/local/lib/python3.10/dist-packages/sklearn/cluster/_agglomerative.py:983: FutureWarning: Attribute `affinity` was deprecated in version 1.2 and will be removed in 1.4. Use `metric` instead\n",
            "  warnings.warn(\n",
            "/usr/local/lib/python3.10/dist-packages/sklearn/cluster/_agglomerative.py:983: FutureWarning: Attribute `affinity` was deprecated in version 1.2 and will be removed in 1.4. Use `metric` instead\n",
            "  warnings.warn(\n",
            "/usr/local/lib/python3.10/dist-packages/sklearn/cluster/_agglomerative.py:983: FutureWarning: Attribute `affinity` was deprecated in version 1.2 and will be removed in 1.4. Use `metric` instead\n",
            "  warnings.warn(\n",
            "<ipython-input-63-b7444e0ce3c3>:12: MatplotlibDeprecationWarning: The seaborn styles shipped by Matplotlib are deprecated since 3.6, as they no longer correspond to the styles shipped by seaborn. However, they will remain available as 'seaborn-v0_8-<style>'. Alternatively, directly use the seaborn API instead.\n",
            "  plt.style.use('seaborn-darkgrid')\n"
          ]
        },
        {
          "output_type": "display_data",
          "data": {
            "text/plain": [
              "<Figure size 800x400 with 1 Axes>"
            ],
            "image/png": "[encoded data removed]"
          },
          "metadata": {}
        },
        {
          "output_type": "stream",
          "name": "stdout",
          "text": [
            "0.5286018409871408 for 4 clusters\n"
          ]
        },
        {
          "output_type": "execute_result",
          "data": {
            "text/plain": [
              "[0.47040913679492186,\n",
              " 0.39619766243707655,\n",
              " 0.5286018409871408,\n",
              " 0.5082555071160846,\n",
              " 0.4872677894382957,\n",
              " 0.43873250506611094,\n",
              " 0.4087022964575043,\n",
              " 0.40082699430237484,\n",
              " 0.35722100020389563]"
            ]
          },
          "metadata": {},
          "execution_count": 63
        }
      ]
    },
    {
      "cell_type": "code",
      "source": [
        "#for hierarchical clustering technique with affinity='l2'and linkage='complete'\n",
        "\n",
        "nc=range(2,11)\n",
        "l=[]\n",
        "for i in nc:\n",
        "  model=AgglomerativeClustering(n_clusters=i,affinity='l2',linkage='complete')\n",
        "  l.append(silhouette_score(scaled_features,model.fit_predict(scaled_features)))\n",
        "\n",
        "\n",
        "#plotting\n",
        "plt.figure(figsize=(8,4))\n",
        "plt.style.use('seaborn-darkgrid')\n",
        "plt.scatter(nc,l,s=50,color='black')\n",
        "plt.plot(nc,l,color='red',linestyle='-.')\n",
        "plt.xticks(range(1,11))\n",
        "plt.show();\n",
        "\n",
        "\n",
        "# printing highest Silhouette score for the respective technique\n",
        "print(max(l),'for',nc[l.index(max(l))],\"clusters\")\n",
        "\n",
        "l"
      ],
      "metadata": {
        "colab": {
          "base_uri": "https://localhost:8080/",
          "height": 904
        },
        "id": "sgpjUGz1rdsr",
        "outputId": "9c85c746-4b13-4bfb-f7a5-8c8936cf6a14"
      },
      "execution_count": 64,
      "outputs": [
        {
          "output_type": "stream",
          "name": "stderr",
          "text": [
            "/usr/local/lib/python3.10/dist-packages/sklearn/cluster/_agglomerative.py:983: FutureWarning: Attribute `affinity` was deprecated in version 1.2 and will be removed in 1.4. Use `metric` instead\n",
            "  warnings.warn(\n",
            "/usr/local/lib/python3.10/dist-packages/sklearn/cluster/_agglomerative.py:983: FutureWarning: Attribute `affinity` was deprecated in version 1.2 and will be removed in 1.4. Use `metric` instead\n",
            "  warnings.warn(\n",
            "/usr/local/lib/python3.10/dist-packages/sklearn/cluster/_agglomerative.py:983: FutureWarning: Attribute `affinity` was deprecated in version 1.2 and will be removed in 1.4. Use `metric` instead\n",
            "  warnings.warn(\n",
            "/usr/local/lib/python3.10/dist-packages/sklearn/cluster/_agglomerative.py:983: FutureWarning: Attribute `affinity` was deprecated in version 1.2 and will be removed in 1.4. Use `metric` instead\n",
            "  warnings.warn(\n",
            "/usr/local/lib/python3.10/dist-packages/sklearn/cluster/_agglomerative.py:983: FutureWarning: Attribute `affinity` was deprecated in version 1.2 and will be removed in 1.4. Use `metric` instead\n",
            "  warnings.warn(\n",
            "/usr/local/lib/python3.10/dist-packages/sklearn/cluster/_agglomerative.py:983: FutureWarning: Attribute `affinity` was deprecated in version 1.2 and will be removed in 1.4. Use `metric` instead\n",
            "  warnings.warn(\n",
            "/usr/local/lib/python3.10/dist-packages/sklearn/cluster/_agglomerative.py:983: FutureWarning: Attribute `affinity` was deprecated in version 1.2 and will be removed in 1.4. Use `metric` instead\n",
            "  warnings.warn(\n",
            "/usr/local/lib/python3.10/dist-packages/sklearn/cluster/_agglomerative.py:983: FutureWarning: Attribute `affinity` was deprecated in version 1.2 and will be removed in 1.4. Use `metric` instead\n",
            "  warnings.warn(\n",
            "/usr/local/lib/python3.10/dist-packages/sklearn/cluster/_agglomerative.py:983: FutureWarning: Attribute `affinity` was deprecated in version 1.2 and will be removed in 1.4. Use `metric` instead\n",
            "  warnings.warn(\n",
            "<ipython-input-64-b408e1ebc1b2>:12: MatplotlibDeprecationWarning: The seaborn styles shipped by Matplotlib are deprecated since 3.6, as they no longer correspond to the styles shipped by seaborn. However, they will remain available as 'seaborn-v0_8-<style>'. Alternatively, directly use the seaborn API instead.\n",
            "  plt.style.use('seaborn-darkgrid')\n"
          ]
        },
        {
          "output_type": "display_data",
          "data": {
            "text/plain": [
              "<Figure size 800x400 with 1 Axes>"
            ],
            "image/png": "[encoded data removed]"
          },
          "metadata": {}
        },
        {
          "output_type": "stream",
          "name": "stdout",
          "text": [
            "0.5318787367232326 for 3 clusters\n"
          ]
        },
        {
          "output_type": "execute_result",
          "data": {
            "text/plain": [
              "[0.47040913679492186,\n",
              " 0.5318787367232326,\n",
              " 0.46459708515197673,\n",
              " 0.4167248248554338,\n",
              " 0.4172318835123988,\n",
              " 0.4161868994032843,\n",
              " 0.39120686651419934,\n",
              " 0.35190300606505326,\n",
              " 0.3522324604386131]"
            ]
          },
          "metadata": {},
          "execution_count": 64
        }
      ]
    },
    {
      "cell_type": "markdown",
      "source": [
        " **Silhouette score** :Silhouette Coefficient or silhouette score is a metric used to calculate the goodness of a clustering technique. Its value ranges from -1 to 1.Silhouette score is higher the better.<br>\n",
        "\n",
        "\n",
        "---\n",
        "\n",
        "\n",
        "We calculated silhouette score for different clustering techniques<br>\n",
        "\n",
        "Representing highest Silhouette score for each technique:<br>\n",
        "1. For KMean clustering technique:\n",
        "> 0.535930510919477  for 2 clusters\n",
        "\n",
        "2. For hierarchical clustering technique with affinity='l1'and linkage='single'  \n",
        "> 0.5460574674055123 for 2 clusters\n",
        "\n",
        "3. For hierarchical clustering technique with affinity='l1'and linkage='average'\n",
        "> 0.45418920710462085 for 2 clusters\n",
        "\n",
        "4. For hierarchical clustering technique with affinity='l1'and linkage='complete'\n",
        "> 0.5322330314764526 for 3 clusters\n",
        "\n",
        "5. For hierarchical clustering technique with affinity='l2'and linkage='single'\n",
        "> 0.535930510919477 for 2 clusters\n",
        "\n",
        "6. For hierarchical clustering technique with affinity='l2'and linkage='average'\n",
        "> 0.5286018409871408 for 4 clusters\n",
        "\n",
        "7. For hierarchical clustering technique with affinity='l2'and linkage='complete'\n",
        "> 0.5318787367232326 for 3 clusters\n",
        "\n",
        "\n",
        "\n",
        "\n",
        "*   We will avoid using 'single' as  linkage because it mainly focus on the structure\n"
      ],
      "metadata": {
        "id": "CWB4CUvg4zVO"
      }
    },
    {
      "cell_type": "markdown",
      "source": [
        "**Elbow Method** : In cluster analysis, the elbow method is a heuristic used in determining the number of clusters in a data set. The method consists of plotting the explained variation as a function of the number of clusters and picking the elbow of the curve as the number of clusters to use.\n",
        "\n",
        "---\n",
        "\n",
        "\n",
        "> By Elbow Method for Kmeans clustering we got that there shold be 2 clusters."
      ],
      "metadata": {
        "id": "qu8gMccYKNYU"
      }
    },
    {
      "cell_type": "markdown",
      "source": [
        "We will go with\n",
        "\n",
        "1. Silhouette score for KMean clustering technique:\n",
        "> 0.535930510919477  for 2 clusters\n",
        "\n",
        "\n",
        "**We will go ahed with 2 clusters**"
      ],
      "metadata": {
        "id": "MU6hPT0XBmGD"
      }
    },
    {
      "cell_type": "code",
      "source": [],
      "metadata": {
        "id": "8gGLOYqu5JAI"
      },
      "execution_count": null,
      "outputs": []
    }
  ]
}